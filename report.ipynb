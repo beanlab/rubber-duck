{
 "cells": [
  {
   "cell_type": "code",
   "metadata": {
    "ExecuteTime": {
     "end_time": "2024-09-25T00:20:37.048055Z",
     "start_time": "2024-09-25T00:20:37.039730Z"
    }
   },
   "source": [
    "from pathlib import Path\n",
    "import pandas as pd\n",
    "import matplotlib.pyplot as plt\n",
    "import seaborn as sns\n",
    "import json"
   ],
   "outputs": [],
   "execution_count": 1
  },
  {
   "cell_type": "code",
   "metadata": {
    "ExecuteTime": {
     "end_time": "2024-09-25T00:20:37.264438Z",
     "start_time": "2024-09-25T00:20:37.246178Z"
    }
   },
   "source": [
    "class ReportAssistant():\n",
    "    def __init__(self):\n",
    "        self.usage = pd.read_csv(\"./state/metrics/usage.csv\")\n",
    "        # self.messages = pd.read_csv(\"./state/metrics/messages.csv\")\n",
    "        self.feedback = pd.read_csv(\"./state/metrics/feedback.csv\")\n",
    "        self.current_df = None\n",
    "        self.target_var = None\n",
    "        self.explain_var = None\n",
    "\n",
    "    def read_df(self, df: pd.DataFrame, n=10):\n",
    "        print(df.head(n))\n",
    "        return df\n",
    "\n",
    "    def view_graph(self, df: pd.DataFrame, type = 'bar chart'):\n",
    "        lst = list(df.columns)\n",
    "        print(lst)\n",
    "        while self.target_var == None:\n",
    "            print(\"What do you want to see data about?\")\n",
    "            col = input(f\"{lst}\")\n",
    "            if col in lst:\n",
    "                self.target_var = col\n",
    "            else:\n",
    "                print(f\"Sorry, {col} is not one of the {self.current_df} fields.\")\n",
    "\n",
    "        lst.remove(self.target_var)\n",
    "        print(lst)\n",
    "        while self.explain_var == None:\n",
    "            print(\"Great! What do you what to compare {y_axis} against?\")\n",
    "            col = input(f\"{lst}\")\n",
    "            if col in lst:\n",
    "                self.explain_var = col\n",
    "            else:\n",
    "                print(f\"Sorry, {col} is not one of the {self.current_df} fields.\")\n",
    "\n",
    "        if type == \"bar chart\":\n",
    "            # print(f'You chose a to view {self.current_df} by a bar chart')\n",
    "            pass\n",
    "\n",
    "        # Create the bar chart\n",
    "        plt.bar(df[self.explain_var], df[self.target_var])\n",
    "\n",
    "        # Rotate x-axis labels for readability\n",
    "        plt.xticks(rotation=45)\n",
    "\n",
    "        # Add labels and title\n",
    "        plt.xlabel(self.explain_var)\n",
    "        plt.ylabel(self.target_var)\n",
    "        plt.title(f'{self.target_var} by {self.explain_var}')\n",
    "\n",
    "        # Show plot\n",
    "        plt.tight_layout()  # Ensure everything fits without overlap\n",
    "        plt.show()"
   ],
   "outputs": [],
   "execution_count": 2
  },
  {
   "cell_type": "code",
   "execution_count": 33,
   "metadata": {},
   "outputs": [],
   "source": [
    "def get_df(assistant: ReportAssistant):\n",
    "    while True:\n",
    "        df_request = input(\"Which data do you want to view from? Usage, messages, or feedback?\\n\").lower()\n",
    "        match df_request:\n",
    "            case 'usage' | 'u':\n",
    "                assistant.current_df = 'usage'\n",
    "                return assistant.read_df(assistant.usage)\n",
    "            case 'feedback' | 'f':\n",
    "                assistant.current_df = 'feedback'\n",
    "                return assistant.read_df(assistant.feedback)\n",
    "            case 'q':\n",
    "                print(\"See you next time!\")\n",
    "                return None\n",
    "            case _:\n",
    "                print(f\"Sorry, '{df_request}' is not an option.\")"
   ]
  },
  {
   "cell_type": "code",
   "execution_count": 44,
   "metadata": {},
   "outputs": [
    {
     "name": "stdout",
     "output_type": "stream",
     "text": [
      "                          timestamp             guild_id            thread_id  \\\n",
      "0  2024-09-19T13:57:14.845305-06:00  1058490579799003187  1286415799652978730   \n",
      "1  2024-09-20T10:14:30.737584-06:00  1058490579799003187  1286722124974919733   \n",
      "2  2024-09-20T10:14:36.989044-06:00  1058490579799003187  1286722124974919733   \n",
      "3  2024-09-20T10:27:29.005306-06:00  1058490579799003187  1286725345051017331   \n",
      "4  2024-09-20T10:27:34.549281-06:00  1058490579799003187  1286725345051017331   \n",
      "5  2024-09-20T10:36:57.585675-06:00  1058490579799003187  1286727762765283450   \n",
      "6  2024-09-20T10:37:24.903747-06:00  1058490579799003187  1286727762765283450   \n",
      "7  2024-09-20T10:37:42.553303-06:00  1058490579799003187  1286727762765283450   \n",
      "8  2024-09-20T10:38:03.159440-06:00  1058490579799003187  1286727762765283450   \n",
      "9  2024-09-20T10:38:51.587045-06:00  1058490579799003187  1286727762765283450   \n",
      "\n",
      "               user_id  engine  input_tokens  output_tokens  \n",
      "0  1062212682725466132  gpt-4o           559             31  \n",
      "1  1062212682725466132  gpt-4o           559             23  \n",
      "2  1062212682725466132  gpt-4o           593             28  \n",
      "3  1011429191046144110  gpt-4o           556             12  \n",
      "4  1011429191046144110  gpt-4o           579             12  \n",
      "5  1011429191046144110  gpt-4o           556             19  \n",
      "6  1011429191046144110  gpt-4o           586             13  \n",
      "7  1011429191046144110  gpt-4o          1105            147  \n",
      "8  1011429191046144110  gpt-4o          1341             68  \n",
      "9  1011429191046144110  gpt-4o          1429             51  \n"
     ]
    }
   ],
   "source": [
    "assistant = ReportAssistant()\n",
    "df = get_df(assistant)\n",
    "\n",
    "data = {\n",
    "    'user_id': ['1011429191046144110', '1062212682725466132'],\n",
    "    'output_tokens': [843, 372]\n",
    "}\n",
    "\n",
    "df = pd.DataFrame(data)"
   ]
  },
  {
   "cell_type": "code",
   "execution_count": 45,
   "metadata": {},
   "outputs": [
    {
     "name": "stdout",
     "output_type": "stream",
     "text": [
      "['user_id', 'output_tokens']\n",
      "What do you want to see data about?\n",
      "['user_id']\n",
      "Great! What do you what to compare {y_axis} against?\n"
     ]
    },
    {
     "data": {
      "image/png": "[encoded data removed]",
      "text/plain": [
       "<Figure size 640x480 with 1 Axes>"
      ]
     },
     "metadata": {},
     "output_type": "display_data"
    }
   ],
   "source": [
    "assistant.view_graph(df)"
   ]
  },
  {
   "cell_type": "code",
   "execution_count": 36,
   "metadata": {},
   "outputs": [
    {
     "name": "stdout",
     "output_type": "stream",
     "text": [
      "0.13.2\n",
      "C:\\Users\\bryce\\AppData\\Roaming\\Python\\Python311\\site-packages\\seaborn\\__init__.py\n"
     ]
    }
   ],
   "source": [
    "import seaborn as sns\n",
    "print(sns.__version__)  # Check Seaborn version\n",
    "print(sns.__file__)     # Check path to Seaborn installation\n"
   ]
  }
 ],
 "metadata": {
  "kernelspec": {
   "display_name": "CS301R",
   "language": "python",
   "name": "python3"
  },
  "language_info": {
   "codemirror_mode": {
    "name": "ipython",
    "version": 3
   },
   "file_extension": ".py",
   "mimetype": "text/x-python",
   "name": "python",
   "nbconvert_exporter": "python",
   "pygments_lexer": "ipython3",
   "version": "3.11.9"
  }
 },
 "nbformat": 4,
 "nbformat_minor": 2
}
