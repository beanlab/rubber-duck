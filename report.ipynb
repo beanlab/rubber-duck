{
 "cells": [
  {
   "cell_type": "code",
   "metadata": {
    "ExecuteTime": {
     "end_time": "2024-09-25T16:50:16.505069Z",
     "start_time": "2024-09-25T16:50:16.496415Z"
    }
   },
   "source": [
    "from pathlib import Path\n",
    "import pandas as pd\n",
    "import matplotlib.pyplot as plt\n",
    "import seaborn as sns\n",
    "import json"
   ],
   "outputs": [],
   "execution_count": 29
  },
  {
   "cell_type": "code",
   "metadata": {
    "ExecuteTime": {
     "end_time": "2024-09-25T16:50:17.511068Z",
     "start_time": "2024-09-25T16:50:17.491792Z"
    }
   },
   "source": [
    "class ReportAssistant():\n",
    "    def __init__(self):\n",
    "        self.usage = pd.read_csv(\"./sample_metrics/usage.csv\")\n",
    "        # self.messages = pd.read_csv(\"./sample_metrics/messages.csv\")\n",
    "        self.feedback = pd.read_csv(\"./sample_metrics/feedback.csv\")\n",
    "        self.current_df = None\n",
    "        self.target_var = None\n",
    "        self.explain_var = None\n",
    "\n",
    "    def read_df(self, df: pd.DataFrame, n=10):\n",
    "        print(df.head(n))\n",
    "        return df\n",
    "\n",
    "    def view_graph(self, df: pd.DataFrame, type = 'bar chart'):\n",
    "        lst = list(df.columns)\n",
    "        print(lst)\n",
    "        while self.target_var == None:\n",
    "            print(\"What do you want to see data about?\")\n",
    "            col = input(f\"{lst}\")\n",
    "            if col in lst:\n",
    "                self.target_var = col\n",
    "            else:\n",
    "                print(f\"Sorry, {col} is not one of the {self.current_df} fields.\")\n",
    "\n",
    "        lst.remove(self.target_var)\n",
    "        print(lst)\n",
    "        while self.explain_var == None:\n",
    "            print(\"Great! What do you what to compare {y_axis} against?\")\n",
    "            col = input(f\"{lst}\")\n",
    "            if col in lst:\n",
    "                self.explain_var = col\n",
    "            else:\n",
    "                print(f\"Sorry, {col} is not one of the {self.current_df} fields.\")\n",
    "\n",
    "        if type == \"bar chart\":\n",
    "            # print(f'You chose a to view {self.current_df} by a bar chart')\n",
    "            pass\n",
    "        \n",
    "        df = df.groupby(self.explain_var).sum()\n",
    "\n",
    "        # Create the bar chart\n",
    "        plt.bar(df[self.explain_var], df[self.target_var])\n",
    "\n",
    "        # Rotate x-axis labels for readability\n",
    "        plt.xticks(rotation=45)\n",
    "\n",
    "        # Add labels and title\n",
    "        plt.xlabel(self.explain_var)\n",
    "        plt.ylabel(self.target_var)\n",
    "        plt.title(f'{self.target_var} by {self.explain_var}')\n",
    "\n",
    "        # Show plot\n",
    "        plt.tight_layout()  # Ensure everything fits without overlap\n",
    "        plt.show()"
   ],
   "outputs": [],
   "execution_count": 30
  },
  {
   "cell_type": "code",
   "metadata": {
    "ExecuteTime": {
     "end_time": "2024-09-25T16:50:20.606754Z",
     "start_time": "2024-09-25T16:50:20.596629Z"
    }
   },
   "source": [
    "def get_df(assistant: ReportAssistant):\n",
    "    while True:\n",
    "        df_request = input(\"Which data do you want to view from? Usage, messages, or feedback?\\n\").lower()\n",
    "        match df_request:\n",
    "            case 'usage' | 'u':\n",
    "                assistant.current_df = 'usage'\n",
    "                return assistant.read_df(assistant.usage)\n",
    "            case 'feedback' | 'f':\n",
    "                assistant.current_df = 'feedback'\n",
    "                return assistant.read_df(assistant.feedback)\n",
    "            case 'q':\n",
    "                print(\"See you next time!\")\n",
    "                return None\n",
    "            case _:\n",
    "                print(f\"Sorry, '{df_request}' is not an option.\")"
   ],
   "outputs": [],
   "execution_count": 31
  },
  {
   "cell_type": "code",
   "metadata": {
    "ExecuteTime": {
     "end_time": "2024-09-25T16:51:43.866468Z",
     "start_time": "2024-09-25T16:51:40.677361Z"
    }
   },
   "source": [
    "assistant = ReportAssistant()\n",
    "df = get_df(assistant)\n",
    "\n",
    "data = {\n",
    "    'user_id': ['1011429191046144110', '1062212682725466132'],\n",
    "    'output_tokens': [843, 372]\n",
    "}\n",
    "\n",
    "# df = pd.DataFrame(data)"
   ],
   "outputs": [
    {
     "name": "stdout",
     "output_type": "stream",
     "text": [
      "                          timestamp             guild_id            thread_id  \\\n",
      "0  2024-04-30T13:04:23.704118-06:00  1058490579799003187  1234943435027255366   \n",
      "1  2024-04-30T13:04:59.996258-06:00  1058490579799003187  1234943566665744496   \n",
      "2  2024-04-30T14:39:31.937756-06:00   747510855536738336  1234967291737673749   \n",
      "3  2024-04-30T16:20:31.917441-06:00  1008806488384483338  1234992628349669446   \n",
      "4  2024-04-30T16:22:48.799686-06:00  1008806488384483338  1234992628349669446   \n",
      "5  2024-04-30T16:23:32.666365-06:00  1008806488384483338  1234992628349669446   \n",
      "6  2024-04-30T16:24:32.494478-06:00  1008806488384483338  1234992628349669446   \n",
      "7  2024-04-30T16:26:52.034102-06:00  1008806488384483338  1234992628349669446   \n",
      "8  2024-04-30T16:28:05.742757-06:00  1008806488384483338  1234992628349669446   \n",
      "9  2024-04-30T16:28:32.440031-06:00  1008806488384483338  1234992628349669446   \n",
      "\n",
      "               user_id               engine  input_tokens  output_tokens  \n",
      "0   911012305880358952        gpt-3.5-turbo            14              9  \n",
      "1   911012305880358952        gpt-3.5-turbo            15             18  \n",
      "2   911012305880358952  gpt-4-turbo-preview           503            247  \n",
      "3  1149009402582544386  gpt-4-turbo-preview           511             18  \n",
      "4  1149009402582544386  gpt-4-turbo-preview           760            105  \n",
      "5  1149009402582544386  gpt-4-turbo-preview          1027             83  \n",
      "6  1149009402582544386  gpt-4-turbo-preview          1320            130  \n",
      "7  1149009402582544386  gpt-4-turbo-preview          1460             18  \n",
      "8  1149009402582544386  gpt-4-turbo-preview          1515            149  \n",
      "9  1149009402582544386  gpt-4-turbo-preview          1685             47  \n"
     ]
    }
   ],
   "execution_count": 36
  },
  {
   "metadata": {
    "ExecuteTime": {
     "end_time": "2024-09-25T16:50:50.873678Z",
     "start_time": "2024-09-25T16:50:50.849391Z"
    }
   },
   "cell_type": "code",
   "source": [
    "df_sub = df[[\"output_tokens\", \"user_id\"]]\n",
    "df_sub.groupby(\"user_id\").sum().head()"
   ],
   "outputs": [
    {
     "data": {
      "text/plain": [
       "                    output_tokens\n",
       "user_id                          \n",
       "106945517841362944             14\n",
       "148906783233015808            552\n",
       "167032041316155392            251\n",
       "182468576362364928          56031\n",
       "190486335776096256             35"
      ],
      "text/html": [
       "<div>\n",
       "<style scoped>\n",
       "    .dataframe tbody tr th:only-of-type {\n",
       "        vertical-align: middle;\n",
       "    }\n",
       "\n",
       "    .dataframe tbody tr th {\n",
       "        vertical-align: top;\n",
       "    }\n",
       "\n",
       "    .dataframe thead th {\n",
       "        text-align: right;\n",
       "    }\n",
       "</style>\n",
       "<table border=\"1\" class=\"dataframe\">\n",
       "  <thead>\n",
       "    <tr style=\"text-align: right;\">\n",
       "      <th></th>\n",
       "      <th>output_tokens</th>\n",
       "    </tr>\n",
       "    <tr>\n",
       "      <th>user_id</th>\n",
       "      <th></th>\n",
       "    </tr>\n",
       "  </thead>\n",
       "  <tbody>\n",
       "    <tr>\n",
       "      <th>106945517841362944</th>\n",
       "      <td>14</td>\n",
       "    </tr>\n",
       "    <tr>\n",
       "      <th>148906783233015808</th>\n",
       "      <td>552</td>\n",
       "    </tr>\n",
       "    <tr>\n",
       "      <th>167032041316155392</th>\n",
       "      <td>251</td>\n",
       "    </tr>\n",
       "    <tr>\n",
       "      <th>182468576362364928</th>\n",
       "      <td>56031</td>\n",
       "    </tr>\n",
       "    <tr>\n",
       "      <th>190486335776096256</th>\n",
       "      <td>35</td>\n",
       "    </tr>\n",
       "  </tbody>\n",
       "</table>\n",
       "</div>"
      ]
     },
     "execution_count": 34,
     "metadata": {},
     "output_type": "execute_result"
    }
   ],
   "execution_count": 34
  },
  {
   "metadata": {
    "ExecuteTime": {
     "end_time": "2024-09-25T16:52:02.377248Z",
     "start_time": "2024-09-25T16:51:52.700451Z"
    }
   },
   "cell_type": "code",
   "source": "assistant.view_graph(df)",
   "outputs": [
    {
     "name": "stdout",
     "output_type": "stream",
     "text": [
      "['timestamp', 'guild_id', 'thread_id', 'user_id', 'engine', 'input_tokens', 'output_tokens']\n",
      "What do you want to see data about?\n",
      "['timestamp', 'guild_id', 'thread_id', 'user_id', 'engine', 'input_tokens']\n",
      "Great! What do you what to compare {y_axis} against?\n"
     ]
    },
    {
     "ename": "KeyError",
     "evalue": "'user_id'",
     "output_type": "error",
     "traceback": [
      "\u001B[1;31m---------------------------------------------------------------------------\u001B[0m",
      "\u001B[1;31mKeyError\u001B[0m                                  Traceback (most recent call last)",
      "File \u001B[1;32m~\\AppData\\Roaming\\Python\\Python311\\site-packages\\pandas\\core\\indexes\\base.py:3805\u001B[0m, in \u001B[0;36mIndex.get_loc\u001B[1;34m(self, key)\u001B[0m\n\u001B[0;32m   3804\u001B[0m \u001B[38;5;28;01mtry\u001B[39;00m:\n\u001B[1;32m-> 3805\u001B[0m     \u001B[38;5;28;01mreturn\u001B[39;00m \u001B[38;5;28;43mself\u001B[39;49m\u001B[38;5;241;43m.\u001B[39;49m\u001B[43m_engine\u001B[49m\u001B[38;5;241;43m.\u001B[39;49m\u001B[43mget_loc\u001B[49m\u001B[43m(\u001B[49m\u001B[43mcasted_key\u001B[49m\u001B[43m)\u001B[49m\n\u001B[0;32m   3806\u001B[0m \u001B[38;5;28;01mexcept\u001B[39;00m \u001B[38;5;167;01mKeyError\u001B[39;00m \u001B[38;5;28;01mas\u001B[39;00m err:\n",
      "File \u001B[1;32mindex.pyx:167\u001B[0m, in \u001B[0;36mpandas._libs.index.IndexEngine.get_loc\u001B[1;34m()\u001B[0m\n",
      "File \u001B[1;32mindex.pyx:196\u001B[0m, in \u001B[0;36mpandas._libs.index.IndexEngine.get_loc\u001B[1;34m()\u001B[0m\n",
      "File \u001B[1;32mpandas\\\\_libs\\\\hashtable_class_helper.pxi:7081\u001B[0m, in \u001B[0;36mpandas._libs.hashtable.PyObjectHashTable.get_item\u001B[1;34m()\u001B[0m\n",
      "File \u001B[1;32mpandas\\\\_libs\\\\hashtable_class_helper.pxi:7089\u001B[0m, in \u001B[0;36mpandas._libs.hashtable.PyObjectHashTable.get_item\u001B[1;34m()\u001B[0m\n",
      "\u001B[1;31mKeyError\u001B[0m: 'user_id'",
      "\nThe above exception was the direct cause of the following exception:\n",
      "\u001B[1;31mKeyError\u001B[0m                                  Traceback (most recent call last)",
      "Cell \u001B[1;32mIn[38], line 1\u001B[0m\n\u001B[1;32m----> 1\u001B[0m \u001B[43massistant\u001B[49m\u001B[38;5;241;43m.\u001B[39;49m\u001B[43mview_graph\u001B[49m\u001B[43m(\u001B[49m\u001B[43mdf\u001B[49m\u001B[43m)\u001B[49m\n",
      "Cell \u001B[1;32mIn[30], line 42\u001B[0m, in \u001B[0;36mReportAssistant.view_graph\u001B[1;34m(self, df, type)\u001B[0m\n\u001B[0;32m     39\u001B[0m df \u001B[38;5;241m=\u001B[39m df\u001B[38;5;241m.\u001B[39mgroupby(\u001B[38;5;28mself\u001B[39m\u001B[38;5;241m.\u001B[39mexplain_var)\u001B[38;5;241m.\u001B[39msum()\n\u001B[0;32m     41\u001B[0m \u001B[38;5;66;03m# Create the bar chart\u001B[39;00m\n\u001B[1;32m---> 42\u001B[0m plt\u001B[38;5;241m.\u001B[39mbar(\u001B[43mdf\u001B[49m\u001B[43m[\u001B[49m\u001B[38;5;28;43mself\u001B[39;49m\u001B[38;5;241;43m.\u001B[39;49m\u001B[43mexplain_var\u001B[49m\u001B[43m]\u001B[49m, df[\u001B[38;5;28mself\u001B[39m\u001B[38;5;241m.\u001B[39mtarget_var])\n\u001B[0;32m     44\u001B[0m \u001B[38;5;66;03m# Rotate x-axis labels for readability\u001B[39;00m\n\u001B[0;32m     45\u001B[0m plt\u001B[38;5;241m.\u001B[39mxticks(rotation\u001B[38;5;241m=\u001B[39m\u001B[38;5;241m45\u001B[39m)\n",
      "File \u001B[1;32m~\\AppData\\Roaming\\Python\\Python311\\site-packages\\pandas\\core\\frame.py:4102\u001B[0m, in \u001B[0;36mDataFrame.__getitem__\u001B[1;34m(self, key)\u001B[0m\n\u001B[0;32m   4100\u001B[0m \u001B[38;5;28;01mif\u001B[39;00m \u001B[38;5;28mself\u001B[39m\u001B[38;5;241m.\u001B[39mcolumns\u001B[38;5;241m.\u001B[39mnlevels \u001B[38;5;241m>\u001B[39m \u001B[38;5;241m1\u001B[39m:\n\u001B[0;32m   4101\u001B[0m     \u001B[38;5;28;01mreturn\u001B[39;00m \u001B[38;5;28mself\u001B[39m\u001B[38;5;241m.\u001B[39m_getitem_multilevel(key)\n\u001B[1;32m-> 4102\u001B[0m indexer \u001B[38;5;241m=\u001B[39m \u001B[38;5;28;43mself\u001B[39;49m\u001B[38;5;241;43m.\u001B[39;49m\u001B[43mcolumns\u001B[49m\u001B[38;5;241;43m.\u001B[39;49m\u001B[43mget_loc\u001B[49m\u001B[43m(\u001B[49m\u001B[43mkey\u001B[49m\u001B[43m)\u001B[49m\n\u001B[0;32m   4103\u001B[0m \u001B[38;5;28;01mif\u001B[39;00m is_integer(indexer):\n\u001B[0;32m   4104\u001B[0m     indexer \u001B[38;5;241m=\u001B[39m [indexer]\n",
      "File \u001B[1;32m~\\AppData\\Roaming\\Python\\Python311\\site-packages\\pandas\\core\\indexes\\base.py:3812\u001B[0m, in \u001B[0;36mIndex.get_loc\u001B[1;34m(self, key)\u001B[0m\n\u001B[0;32m   3807\u001B[0m     \u001B[38;5;28;01mif\u001B[39;00m \u001B[38;5;28misinstance\u001B[39m(casted_key, \u001B[38;5;28mslice\u001B[39m) \u001B[38;5;129;01mor\u001B[39;00m (\n\u001B[0;32m   3808\u001B[0m         \u001B[38;5;28misinstance\u001B[39m(casted_key, abc\u001B[38;5;241m.\u001B[39mIterable)\n\u001B[0;32m   3809\u001B[0m         \u001B[38;5;129;01mand\u001B[39;00m \u001B[38;5;28many\u001B[39m(\u001B[38;5;28misinstance\u001B[39m(x, \u001B[38;5;28mslice\u001B[39m) \u001B[38;5;28;01mfor\u001B[39;00m x \u001B[38;5;129;01min\u001B[39;00m casted_key)\n\u001B[0;32m   3810\u001B[0m     ):\n\u001B[0;32m   3811\u001B[0m         \u001B[38;5;28;01mraise\u001B[39;00m InvalidIndexError(key)\n\u001B[1;32m-> 3812\u001B[0m     \u001B[38;5;28;01mraise\u001B[39;00m \u001B[38;5;167;01mKeyError\u001B[39;00m(key) \u001B[38;5;28;01mfrom\u001B[39;00m \u001B[38;5;21;01merr\u001B[39;00m\n\u001B[0;32m   3813\u001B[0m \u001B[38;5;28;01mexcept\u001B[39;00m \u001B[38;5;167;01mTypeError\u001B[39;00m:\n\u001B[0;32m   3814\u001B[0m     \u001B[38;5;66;03m# If we have a listlike key, _check_indexing_error will raise\u001B[39;00m\n\u001B[0;32m   3815\u001B[0m     \u001B[38;5;66;03m#  InvalidIndexError. Otherwise we fall through and re-raise\u001B[39;00m\n\u001B[0;32m   3816\u001B[0m     \u001B[38;5;66;03m#  the TypeError.\u001B[39;00m\n\u001B[0;32m   3817\u001B[0m     \u001B[38;5;28mself\u001B[39m\u001B[38;5;241m.\u001B[39m_check_indexing_error(key)\n",
      "\u001B[1;31mKeyError\u001B[0m: 'user_id'"
     ]
    }
   ],
   "execution_count": 38
  },
  {
   "metadata": {
    "ExecuteTime": {
     "end_time": "2024-09-25T16:49:55.768924Z",
     "start_time": "2024-09-25T16:49:55.742758Z"
    }
   },
   "cell_type": "code",
   "outputs": [
    {
     "name": "stdout",
     "output_type": "stream",
     "text": [
      "0.13.2\n",
      "C:\\Users\\bryce\\AppData\\Roaming\\Python\\Python311\\site-packages\\seaborn\\__init__.py\n"
     ]
    }
   ],
   "execution_count": 28,
   "source": [
    "import seaborn as sns\n",
    "print(sns.__version__)  # Check Seaborn version\n",
    "print(sns.__file__)     # Check path to Seaborn installation"
   ]
  }
 ],
 "metadata": {
  "kernelspec": {
   "display_name": "CS301R",
   "language": "python",
   "name": "python3"
  },
  "language_info": {
   "codemirror_mode": {
    "name": "ipython",
    "version": 3
   },
   "file_extension": ".py",
   "mimetype": "text/x-python",
   "name": "python",
   "nbconvert_exporter": "python",
   "pygments_lexer": "ipython3",
   "version": "3.11.9"
  }
 },
 "nbformat": 4,
 "nbformat_minor": 2
}
