{
 "cells": [
  {
   "cell_type": "markdown",
   "id": "6562c470",
   "metadata": {},
   "source": [
    "# Rubber Duck Usage - 2024-01-26"
   ]
  },
  {
   "cell_type": "code",
   "id": "f3d3c6ad",
   "metadata": {
    "ExecuteTime": {
     "end_time": "2024-09-28T21:09:26.396473Z",
     "start_time": "2024-09-28T21:09:26.387099Z"
    }
   },
   "source": [
    "from pathlib import Path\n",
    "import pandas as pd\n",
    "import matplotlib.pyplot as plt\n",
    "import seaborn as sbn\n",
    "import json"
   ],
   "outputs": [],
   "execution_count": 51
  },
  {
   "cell_type": "markdown",
   "id": "22a402bf",
   "metadata": {},
   "source": [
    "### IDs and Pricing"
   ]
  },
  {
   "cell_type": "code",
   "id": "f4acf893",
   "metadata": {
    "ExecuteTime": {
     "end_time": "2024-09-28T21:09:26.491442Z",
     "start_time": "2024-09-28T21:09:26.467462Z"
    }
   },
   "source": [
    "guilds = {\n",
    "    1058490579799003187: 'BeanLab',\n",
    "    927616651409649675: 'CS 110',\n",
    "    1008806488384483338: 'CS 111',\n",
    "    747510855536738336: 'CS 235',\n",
    "    748656649287368704: 'CS 260',\n",
    "    1128355484039123065: 'CS 312'\n",
    "}"
   ],
   "outputs": [],
   "execution_count": 52
  },
  {
   "cell_type": "code",
   "id": "2d7d9a2e",
   "metadata": {
    "ExecuteTime": {
     "end_time": "2024-09-28T21:09:26.559572Z",
     "start_time": "2024-09-28T21:09:26.543861Z"
    }
   },
   "source": [
    "pricing = {\n",
    "    'gpt-4': [0.03, 0.06],\n",
    "    'gpt-4-1106-preview': [0.01, 0.03],\n",
    "    'gpt-4-0125-preview': [0.01, 0.03],\n",
    "    'gpt-4o-mini' : [.0003, .0012],\n",
    "    'gpt-4-turbo-preview': [0.01, 0.03],\n",
    "    'gpt-3.5-turbo-1106': [0.001, 0.002],\n",
    "    'gpt-3.5-turbo': [0.001, 0.003]\n",
    "}"
   ],
   "outputs": [],
   "execution_count": 53
  },
  {
   "cell_type": "markdown",
   "id": "d08a417e",
   "metadata": {},
   "source": [
    "## Load Usage Data"
   ]
  },
  {
   "cell_type": "code",
   "id": "9d3543d3",
   "metadata": {
    "ExecuteTime": {
     "end_time": "2024-09-28T21:09:26.669474Z",
     "start_time": "2024-09-28T21:09:26.639284Z"
    }
   },
   "source": "past_data = Path('sample_metrics/')",
   "outputs": [],
   "execution_count": 54
  },
  {
   "cell_type": "code",
   "id": "3710e5de",
   "metadata": {
    "ExecuteTime": {
     "end_time": "2024-09-28T21:14:11.491298Z",
     "start_time": "2024-09-28T21:14:10.617816Z"
    }
   },
   "source": "usage = pd.read_csv(\"sample_metrics/usage.csv\", parse_dates=['timestamp'])",
   "outputs": [],
   "execution_count": 73
  },
  {
   "cell_type": "code",
   "id": "08d33d10",
   "metadata": {
    "ExecuteTime": {
     "end_time": "2024-09-28T21:14:11.642337Z",
     "start_time": "2024-09-28T21:14:11.626216Z"
    }
   },
   "source": [
    "usage['server'] = usage.guild_id.apply(guilds.get)"
   ],
   "outputs": [],
   "execution_count": 74
  },
  {
   "cell_type": "code",
   "id": "3ff1381b",
   "metadata": {
    "ExecuteTime": {
     "end_time": "2024-09-28T21:14:16.748795Z",
     "start_time": "2024-09-28T21:14:16.701085Z"
    }
   },
   "source": "usage['month'] = usage.timestamp.dt.year.apply(str) + '-' + usage.timestamp.dt.month.apply(lambda m: f'{m:02}')",
   "outputs": [],
   "execution_count": 75
  },
  {
   "metadata": {
    "ExecuteTime": {
     "end_time": "2024-09-28T21:24:17.325452Z",
     "start_time": "2024-09-28T21:24:17.298645Z"
    }
   },
   "cell_type": "code",
   "source": [
    "tz_offset = -7\n",
    "usage[\"hour_of_day\"] = (usage.timestamp.dt.hour + tz_offset) % 24"
   ],
   "id": "6e0842305ec7305b",
   "outputs": [
    {
     "data": {
      "text/plain": [
       "                          timestamp             guild_id            thread_id  \\\n",
       "0  2024-04-30 13:04:23.704118-06:00  1058490579799003187  1234943435027255366   \n",
       "1  2024-04-30 13:04:59.996258-06:00  1058490579799003187  1234943566665744496   \n",
       "2  2024-04-30 14:39:31.937756-06:00   747510855536738336  1234967291737673749   \n",
       "3  2024-04-30 16:20:31.917441-06:00  1008806488384483338  1234992628349669446   \n",
       "4  2024-04-30 16:22:48.799686-06:00  1008806488384483338  1234992628349669446   \n",
       "5  2024-04-30 16:23:32.666365-06:00  1008806488384483338  1234992628349669446   \n",
       "6  2024-04-30 16:24:32.494478-06:00  1008806488384483338  1234992628349669446   \n",
       "7  2024-04-30 16:26:52.034102-06:00  1008806488384483338  1234992628349669446   \n",
       "8  2024-04-30 16:28:05.742757-06:00  1008806488384483338  1234992628349669446   \n",
       "9  2024-04-30 16:28:32.440031-06:00  1008806488384483338  1234992628349669446   \n",
       "10 2024-04-30 16:30:04.379764-06:00  1008806488384483338  1234992628349669446   \n",
       "11 2024-04-30 16:34:49.806620-06:00  1008806488384483338  1234992628349669446   \n",
       "12 2024-04-30 16:50:29.344282-06:00  1008806488384483338  1235000276734185563   \n",
       "13 2024-04-30 17:47:20.753714-06:00   747510855536738336  1235014603520475227   \n",
       "14 2024-04-30 17:47:36.049012-06:00   747510855536738336  1235014603520475227   \n",
       "\n",
       "                user_id               engine  input_tokens  output_tokens  \\\n",
       "0    911012305880358952        gpt-3.5-turbo            14              9   \n",
       "1    911012305880358952        gpt-3.5-turbo            15             18   \n",
       "2    911012305880358952  gpt-4-turbo-preview           503            247   \n",
       "3   1149009402582544386  gpt-4-turbo-preview           511             18   \n",
       "4   1149009402582544386  gpt-4-turbo-preview           760            105   \n",
       "5   1149009402582544386  gpt-4-turbo-preview          1027             83   \n",
       "6   1149009402582544386  gpt-4-turbo-preview          1320            130   \n",
       "7   1149009402582544386  gpt-4-turbo-preview          1460             18   \n",
       "8   1149009402582544386  gpt-4-turbo-preview          1515            149   \n",
       "9   1149009402582544386  gpt-4-turbo-preview          1685             47   \n",
       "10  1149009402582544386  gpt-4-turbo-preview          1776            134   \n",
       "11  1149009402582544386  gpt-4-turbo-preview          1969            158   \n",
       "12  1149009402582544386  gpt-4-turbo-preview           502            119   \n",
       "13  1193367072089051176  gpt-4-turbo-preview           502             27   \n",
       "14  1193367072089051176  gpt-4-turbo-preview           549             36   \n",
       "\n",
       "     server    month  time_of_day  hour_of_day  \n",
       "0   BeanLab  2024-04            6            6  \n",
       "1   BeanLab  2024-04            6            6  \n",
       "2    CS 235  2024-04            7            7  \n",
       "3    CS 111  2024-04            9            9  \n",
       "4    CS 111  2024-04            9            9  \n",
       "5    CS 111  2024-04            9            9  \n",
       "6    CS 111  2024-04            9            9  \n",
       "7    CS 111  2024-04            9            9  \n",
       "8    CS 111  2024-04            9            9  \n",
       "9    CS 111  2024-04            9            9  \n",
       "10   CS 111  2024-04            9            9  \n",
       "11   CS 111  2024-04            9            9  \n",
       "12   CS 111  2024-04            9            9  \n",
       "13   CS 235  2024-04           10           10  \n",
       "14   CS 235  2024-04           10           10  "
      ],
      "text/html": [
       "<div>\n",
       "<style scoped>\n",
       "    .dataframe tbody tr th:only-of-type {\n",
       "        vertical-align: middle;\n",
       "    }\n",
       "\n",
       "    .dataframe tbody tr th {\n",
       "        vertical-align: top;\n",
       "    }\n",
       "\n",
       "    .dataframe thead th {\n",
       "        text-align: right;\n",
       "    }\n",
       "</style>\n",
       "<table border=\"1\" class=\"dataframe\">\n",
       "  <thead>\n",
       "    <tr style=\"text-align: right;\">\n",
       "      <th></th>\n",
       "      <th>timestamp</th>\n",
       "      <th>guild_id</th>\n",
       "      <th>thread_id</th>\n",
       "      <th>user_id</th>\n",
       "      <th>engine</th>\n",
       "      <th>input_tokens</th>\n",
       "      <th>output_tokens</th>\n",
       "      <th>server</th>\n",
       "      <th>month</th>\n",
       "      <th>time_of_day</th>\n",
       "      <th>hour_of_day</th>\n",
       "    </tr>\n",
       "  </thead>\n",
       "  <tbody>\n",
       "    <tr>\n",
       "      <th>0</th>\n",
       "      <td>2024-04-30 13:04:23.704118-06:00</td>\n",
       "      <td>1058490579799003187</td>\n",
       "      <td>1234943435027255366</td>\n",
       "      <td>911012305880358952</td>\n",
       "      <td>gpt-3.5-turbo</td>\n",
       "      <td>14</td>\n",
       "      <td>9</td>\n",
       "      <td>BeanLab</td>\n",
       "      <td>2024-04</td>\n",
       "      <td>6</td>\n",
       "      <td>6</td>\n",
       "    </tr>\n",
       "    <tr>\n",
       "      <th>1</th>\n",
       "      <td>2024-04-30 13:04:59.996258-06:00</td>\n",
       "      <td>1058490579799003187</td>\n",
       "      <td>1234943566665744496</td>\n",
       "      <td>911012305880358952</td>\n",
       "      <td>gpt-3.5-turbo</td>\n",
       "      <td>15</td>\n",
       "      <td>18</td>\n",
       "      <td>BeanLab</td>\n",
       "      <td>2024-04</td>\n",
       "      <td>6</td>\n",
       "      <td>6</td>\n",
       "    </tr>\n",
       "    <tr>\n",
       "      <th>2</th>\n",
       "      <td>2024-04-30 14:39:31.937756-06:00</td>\n",
       "      <td>747510855536738336</td>\n",
       "      <td>1234967291737673749</td>\n",
       "      <td>911012305880358952</td>\n",
       "      <td>gpt-4-turbo-preview</td>\n",
       "      <td>503</td>\n",
       "      <td>247</td>\n",
       "      <td>CS 235</td>\n",
       "      <td>2024-04</td>\n",
       "      <td>7</td>\n",
       "      <td>7</td>\n",
       "    </tr>\n",
       "    <tr>\n",
       "      <th>3</th>\n",
       "      <td>2024-04-30 16:20:31.917441-06:00</td>\n",
       "      <td>1008806488384483338</td>\n",
       "      <td>1234992628349669446</td>\n",
       "      <td>1149009402582544386</td>\n",
       "      <td>gpt-4-turbo-preview</td>\n",
       "      <td>511</td>\n",
       "      <td>18</td>\n",
       "      <td>CS 111</td>\n",
       "      <td>2024-04</td>\n",
       "      <td>9</td>\n",
       "      <td>9</td>\n",
       "    </tr>\n",
       "    <tr>\n",
       "      <th>4</th>\n",
       "      <td>2024-04-30 16:22:48.799686-06:00</td>\n",
       "      <td>1008806488384483338</td>\n",
       "      <td>1234992628349669446</td>\n",
       "      <td>1149009402582544386</td>\n",
       "      <td>gpt-4-turbo-preview</td>\n",
       "      <td>760</td>\n",
       "      <td>105</td>\n",
       "      <td>CS 111</td>\n",
       "      <td>2024-04</td>\n",
       "      <td>9</td>\n",
       "      <td>9</td>\n",
       "    </tr>\n",
       "    <tr>\n",
       "      <th>5</th>\n",
       "      <td>2024-04-30 16:23:32.666365-06:00</td>\n",
       "      <td>1008806488384483338</td>\n",
       "      <td>1234992628349669446</td>\n",
       "      <td>1149009402582544386</td>\n",
       "      <td>gpt-4-turbo-preview</td>\n",
       "      <td>1027</td>\n",
       "      <td>83</td>\n",
       "      <td>CS 111</td>\n",
       "      <td>2024-04</td>\n",
       "      <td>9</td>\n",
       "      <td>9</td>\n",
       "    </tr>\n",
       "    <tr>\n",
       "      <th>6</th>\n",
       "      <td>2024-04-30 16:24:32.494478-06:00</td>\n",
       "      <td>1008806488384483338</td>\n",
       "      <td>1234992628349669446</td>\n",
       "      <td>1149009402582544386</td>\n",
       "      <td>gpt-4-turbo-preview</td>\n",
       "      <td>1320</td>\n",
       "      <td>130</td>\n",
       "      <td>CS 111</td>\n",
       "      <td>2024-04</td>\n",
       "      <td>9</td>\n",
       "      <td>9</td>\n",
       "    </tr>\n",
       "    <tr>\n",
       "      <th>7</th>\n",
       "      <td>2024-04-30 16:26:52.034102-06:00</td>\n",
       "      <td>1008806488384483338</td>\n",
       "      <td>1234992628349669446</td>\n",
       "      <td>1149009402582544386</td>\n",
       "      <td>gpt-4-turbo-preview</td>\n",
       "      <td>1460</td>\n",
       "      <td>18</td>\n",
       "      <td>CS 111</td>\n",
       "      <td>2024-04</td>\n",
       "      <td>9</td>\n",
       "      <td>9</td>\n",
       "    </tr>\n",
       "    <tr>\n",
       "      <th>8</th>\n",
       "      <td>2024-04-30 16:28:05.742757-06:00</td>\n",
       "      <td>1008806488384483338</td>\n",
       "      <td>1234992628349669446</td>\n",
       "      <td>1149009402582544386</td>\n",
       "      <td>gpt-4-turbo-preview</td>\n",
       "      <td>1515</td>\n",
       "      <td>149</td>\n",
       "      <td>CS 111</td>\n",
       "      <td>2024-04</td>\n",
       "      <td>9</td>\n",
       "      <td>9</td>\n",
       "    </tr>\n",
       "    <tr>\n",
       "      <th>9</th>\n",
       "      <td>2024-04-30 16:28:32.440031-06:00</td>\n",
       "      <td>1008806488384483338</td>\n",
       "      <td>1234992628349669446</td>\n",
       "      <td>1149009402582544386</td>\n",
       "      <td>gpt-4-turbo-preview</td>\n",
       "      <td>1685</td>\n",
       "      <td>47</td>\n",
       "      <td>CS 111</td>\n",
       "      <td>2024-04</td>\n",
       "      <td>9</td>\n",
       "      <td>9</td>\n",
       "    </tr>\n",
       "    <tr>\n",
       "      <th>10</th>\n",
       "      <td>2024-04-30 16:30:04.379764-06:00</td>\n",
       "      <td>1008806488384483338</td>\n",
       "      <td>1234992628349669446</td>\n",
       "      <td>1149009402582544386</td>\n",
       "      <td>gpt-4-turbo-preview</td>\n",
       "      <td>1776</td>\n",
       "      <td>134</td>\n",
       "      <td>CS 111</td>\n",
       "      <td>2024-04</td>\n",
       "      <td>9</td>\n",
       "      <td>9</td>\n",
       "    </tr>\n",
       "    <tr>\n",
       "      <th>11</th>\n",
       "      <td>2024-04-30 16:34:49.806620-06:00</td>\n",
       "      <td>1008806488384483338</td>\n",
       "      <td>1234992628349669446</td>\n",
       "      <td>1149009402582544386</td>\n",
       "      <td>gpt-4-turbo-preview</td>\n",
       "      <td>1969</td>\n",
       "      <td>158</td>\n",
       "      <td>CS 111</td>\n",
       "      <td>2024-04</td>\n",
       "      <td>9</td>\n",
       "      <td>9</td>\n",
       "    </tr>\n",
       "    <tr>\n",
       "      <th>12</th>\n",
       "      <td>2024-04-30 16:50:29.344282-06:00</td>\n",
       "      <td>1008806488384483338</td>\n",
       "      <td>1235000276734185563</td>\n",
       "      <td>1149009402582544386</td>\n",
       "      <td>gpt-4-turbo-preview</td>\n",
       "      <td>502</td>\n",
       "      <td>119</td>\n",
       "      <td>CS 111</td>\n",
       "      <td>2024-04</td>\n",
       "      <td>9</td>\n",
       "      <td>9</td>\n",
       "    </tr>\n",
       "    <tr>\n",
       "      <th>13</th>\n",
       "      <td>2024-04-30 17:47:20.753714-06:00</td>\n",
       "      <td>747510855536738336</td>\n",
       "      <td>1235014603520475227</td>\n",
       "      <td>1193367072089051176</td>\n",
       "      <td>gpt-4-turbo-preview</td>\n",
       "      <td>502</td>\n",
       "      <td>27</td>\n",
       "      <td>CS 235</td>\n",
       "      <td>2024-04</td>\n",
       "      <td>10</td>\n",
       "      <td>10</td>\n",
       "    </tr>\n",
       "    <tr>\n",
       "      <th>14</th>\n",
       "      <td>2024-04-30 17:47:36.049012-06:00</td>\n",
       "      <td>747510855536738336</td>\n",
       "      <td>1235014603520475227</td>\n",
       "      <td>1193367072089051176</td>\n",
       "      <td>gpt-4-turbo-preview</td>\n",
       "      <td>549</td>\n",
       "      <td>36</td>\n",
       "      <td>CS 235</td>\n",
       "      <td>2024-04</td>\n",
       "      <td>10</td>\n",
       "      <td>10</td>\n",
       "    </tr>\n",
       "  </tbody>\n",
       "</table>\n",
       "</div>"
      ]
     },
     "execution_count": 97,
     "metadata": {},
     "output_type": "execute_result"
    }
   ],
   "execution_count": 97
  },
  {
   "cell_type": "code",
   "id": "ae53a7e5",
   "metadata": {
    "ExecuteTime": {
     "end_time": "2024-09-28T21:09:28.642664Z",
     "start_time": "2024-09-28T21:09:28.183704Z"
    }
   },
   "source": [
    "def compute_cost(row):\n",
    "    ip, op = pricing.get(row.get('engine', 'gpt-4'), (0,0))\n",
    "    return row['input_tokens'] / 1000 * ip + row['output_tokens'] / 1000 * op\n",
    "\n",
    "usage['cost'] = usage.apply(compute_cost, axis=1)"
   ],
   "outputs": [],
   "execution_count": 58
  },
  {
   "cell_type": "code",
   "id": "0e7139f0",
   "metadata": {
    "ExecuteTime": {
     "end_time": "2024-09-28T21:09:28.735008Z",
     "start_time": "2024-09-28T21:09:28.671333Z"
    }
   },
   "source": [
    "usage"
   ],
   "outputs": [
    {
     "data": {
      "text/plain": [
       "                             timestamp             guild_id  \\\n",
       "0     2024-04-30 13:04:23.704118-06:00  1058490579799003187   \n",
       "1     2024-04-30 13:04:59.996258-06:00  1058490579799003187   \n",
       "2     2024-04-30 14:39:31.937756-06:00   747510855536738336   \n",
       "3     2024-04-30 16:20:31.917441-06:00  1008806488384483338   \n",
       "4     2024-04-30 16:22:48.799686-06:00  1008806488384483338   \n",
       "...                                ...                  ...   \n",
       "16391 2024-09-17 16:07:40.478614-06:00  1235303213796691998   \n",
       "16392 2024-09-17 16:07:50.702919-06:00   747510855536738336   \n",
       "16393 2024-09-17 16:08:06.833884-06:00   747510855536738336   \n",
       "16394 2024-09-17 16:08:30.042838-06:00   747510855536738336   \n",
       "16395 2024-09-17 16:08:33.664387-06:00   747510855536738336   \n",
       "\n",
       "                 thread_id              user_id               engine  \\\n",
       "0      1234943435027255366   911012305880358952        gpt-3.5-turbo   \n",
       "1      1234943566665744496   911012305880358952        gpt-3.5-turbo   \n",
       "2      1234967291737673749   911012305880358952  gpt-4-turbo-preview   \n",
       "3      1234992628349669446  1149009402582544386  gpt-4-turbo-preview   \n",
       "4      1234992628349669446  1149009402582544386  gpt-4-turbo-preview   \n",
       "...                    ...                  ...                  ...   \n",
       "16391  1285713822337994775   953482859862175834               gpt-4o   \n",
       "16392  1285722128565403690  1194017837761708082               gpt-4o   \n",
       "16393  1285723123064508417  1019640478729261076               gpt-4o   \n",
       "16394  1285723123064508417  1019640478729261076               gpt-4o   \n",
       "16395  1285722128565403690  1194017837761708082               gpt-4o   \n",
       "\n",
       "       input_tokens  output_tokens   server    month      cost  \n",
       "0                14              9  BeanLab  2024-04  0.000041  \n",
       "1                15             18  BeanLab  2024-04  0.000069  \n",
       "2               503            247   CS 235  2024-04  0.012440  \n",
       "3               511             18   CS 111  2024-04  0.005650  \n",
       "4               760            105   CS 111  2024-04  0.010750  \n",
       "...             ...            ...      ...      ...       ...  \n",
       "16391          2194             87     None  2024-09  0.000000  \n",
       "16392          1786             54   CS 235  2024-09  0.000000  \n",
       "16393           713             25   CS 235  2024-09  0.000000  \n",
       "16394           756             29   CS 235  2024-09  0.000000  \n",
       "16395          1853            195   CS 235  2024-09  0.000000  \n",
       "\n",
       "[16396 rows x 10 columns]"
      ],
      "text/html": [
       "<div>\n",
       "<style scoped>\n",
       "    .dataframe tbody tr th:only-of-type {\n",
       "        vertical-align: middle;\n",
       "    }\n",
       "\n",
       "    .dataframe tbody tr th {\n",
       "        vertical-align: top;\n",
       "    }\n",
       "\n",
       "    .dataframe thead th {\n",
       "        text-align: right;\n",
       "    }\n",
       "</style>\n",
       "<table border=\"1\" class=\"dataframe\">\n",
       "  <thead>\n",
       "    <tr style=\"text-align: right;\">\n",
       "      <th></th>\n",
       "      <th>timestamp</th>\n",
       "      <th>guild_id</th>\n",
       "      <th>thread_id</th>\n",
       "      <th>user_id</th>\n",
       "      <th>engine</th>\n",
       "      <th>input_tokens</th>\n",
       "      <th>output_tokens</th>\n",
       "      <th>server</th>\n",
       "      <th>month</th>\n",
       "      <th>cost</th>\n",
       "    </tr>\n",
       "  </thead>\n",
       "  <tbody>\n",
       "    <tr>\n",
       "      <th>0</th>\n",
       "      <td>2024-04-30 13:04:23.704118-06:00</td>\n",
       "      <td>1058490579799003187</td>\n",
       "      <td>1234943435027255366</td>\n",
       "      <td>911012305880358952</td>\n",
       "      <td>gpt-3.5-turbo</td>\n",
       "      <td>14</td>\n",
       "      <td>9</td>\n",
       "      <td>BeanLab</td>\n",
       "      <td>2024-04</td>\n",
       "      <td>0.000041</td>\n",
       "    </tr>\n",
       "    <tr>\n",
       "      <th>1</th>\n",
       "      <td>2024-04-30 13:04:59.996258-06:00</td>\n",
       "      <td>1058490579799003187</td>\n",
       "      <td>1234943566665744496</td>\n",
       "      <td>911012305880358952</td>\n",
       "      <td>gpt-3.5-turbo</td>\n",
       "      <td>15</td>\n",
       "      <td>18</td>\n",
       "      <td>BeanLab</td>\n",
       "      <td>2024-04</td>\n",
       "      <td>0.000069</td>\n",
       "    </tr>\n",
       "    <tr>\n",
       "      <th>2</th>\n",
       "      <td>2024-04-30 14:39:31.937756-06:00</td>\n",
       "      <td>747510855536738336</td>\n",
       "      <td>1234967291737673749</td>\n",
       "      <td>911012305880358952</td>\n",
       "      <td>gpt-4-turbo-preview</td>\n",
       "      <td>503</td>\n",
       "      <td>247</td>\n",
       "      <td>CS 235</td>\n",
       "      <td>2024-04</td>\n",
       "      <td>0.012440</td>\n",
       "    </tr>\n",
       "    <tr>\n",
       "      <th>3</th>\n",
       "      <td>2024-04-30 16:20:31.917441-06:00</td>\n",
       "      <td>1008806488384483338</td>\n",
       "      <td>1234992628349669446</td>\n",
       "      <td>1149009402582544386</td>\n",
       "      <td>gpt-4-turbo-preview</td>\n",
       "      <td>511</td>\n",
       "      <td>18</td>\n",
       "      <td>CS 111</td>\n",
       "      <td>2024-04</td>\n",
       "      <td>0.005650</td>\n",
       "    </tr>\n",
       "    <tr>\n",
       "      <th>4</th>\n",
       "      <td>2024-04-30 16:22:48.799686-06:00</td>\n",
       "      <td>1008806488384483338</td>\n",
       "      <td>1234992628349669446</td>\n",
       "      <td>1149009402582544386</td>\n",
       "      <td>gpt-4-turbo-preview</td>\n",
       "      <td>760</td>\n",
       "      <td>105</td>\n",
       "      <td>CS 111</td>\n",
       "      <td>2024-04</td>\n",
       "      <td>0.010750</td>\n",
       "    </tr>\n",
       "    <tr>\n",
       "      <th>...</th>\n",
       "      <td>...</td>\n",
       "      <td>...</td>\n",
       "      <td>...</td>\n",
       "      <td>...</td>\n",
       "      <td>...</td>\n",
       "      <td>...</td>\n",
       "      <td>...</td>\n",
       "      <td>...</td>\n",
       "      <td>...</td>\n",
       "      <td>...</td>\n",
       "    </tr>\n",
       "    <tr>\n",
       "      <th>16391</th>\n",
       "      <td>2024-09-17 16:07:40.478614-06:00</td>\n",
       "      <td>1235303213796691998</td>\n",
       "      <td>1285713822337994775</td>\n",
       "      <td>953482859862175834</td>\n",
       "      <td>gpt-4o</td>\n",
       "      <td>2194</td>\n",
       "      <td>87</td>\n",
       "      <td>None</td>\n",
       "      <td>2024-09</td>\n",
       "      <td>0.000000</td>\n",
       "    </tr>\n",
       "    <tr>\n",
       "      <th>16392</th>\n",
       "      <td>2024-09-17 16:07:50.702919-06:00</td>\n",
       "      <td>747510855536738336</td>\n",
       "      <td>1285722128565403690</td>\n",
       "      <td>1194017837761708082</td>\n",
       "      <td>gpt-4o</td>\n",
       "      <td>1786</td>\n",
       "      <td>54</td>\n",
       "      <td>CS 235</td>\n",
       "      <td>2024-09</td>\n",
       "      <td>0.000000</td>\n",
       "    </tr>\n",
       "    <tr>\n",
       "      <th>16393</th>\n",
       "      <td>2024-09-17 16:08:06.833884-06:00</td>\n",
       "      <td>747510855536738336</td>\n",
       "      <td>1285723123064508417</td>\n",
       "      <td>1019640478729261076</td>\n",
       "      <td>gpt-4o</td>\n",
       "      <td>713</td>\n",
       "      <td>25</td>\n",
       "      <td>CS 235</td>\n",
       "      <td>2024-09</td>\n",
       "      <td>0.000000</td>\n",
       "    </tr>\n",
       "    <tr>\n",
       "      <th>16394</th>\n",
       "      <td>2024-09-17 16:08:30.042838-06:00</td>\n",
       "      <td>747510855536738336</td>\n",
       "      <td>1285723123064508417</td>\n",
       "      <td>1019640478729261076</td>\n",
       "      <td>gpt-4o</td>\n",
       "      <td>756</td>\n",
       "      <td>29</td>\n",
       "      <td>CS 235</td>\n",
       "      <td>2024-09</td>\n",
       "      <td>0.000000</td>\n",
       "    </tr>\n",
       "    <tr>\n",
       "      <th>16395</th>\n",
       "      <td>2024-09-17 16:08:33.664387-06:00</td>\n",
       "      <td>747510855536738336</td>\n",
       "      <td>1285722128565403690</td>\n",
       "      <td>1194017837761708082</td>\n",
       "      <td>gpt-4o</td>\n",
       "      <td>1853</td>\n",
       "      <td>195</td>\n",
       "      <td>CS 235</td>\n",
       "      <td>2024-09</td>\n",
       "      <td>0.000000</td>\n",
       "    </tr>\n",
       "  </tbody>\n",
       "</table>\n",
       "<p>16396 rows × 10 columns</p>\n",
       "</div>"
      ]
     },
     "execution_count": 59,
     "metadata": {},
     "output_type": "execute_result"
    }
   ],
   "execution_count": 59
  },
  {
   "cell_type": "markdown",
   "id": "03540427",
   "metadata": {},
   "source": [
    "## Cost per month"
   ]
  },
  {
   "cell_type": "code",
   "id": "c6704233",
   "metadata": {
    "ExecuteTime": {
     "end_time": "2024-09-28T21:09:29.009394Z",
     "start_time": "2024-09-28T21:09:28.953097Z"
    }
   },
   "source": "usage.groupby('month').cost.sum().reset_index()",
   "outputs": [
    {
     "data": {
      "text/plain": [
       "     month      cost\n",
       "0  2024-04   0.74475\n",
       "1  2024-05  43.83558\n",
       "2  2024-06   0.00000\n",
       "3  2024-07   0.00000\n",
       "4  2024-08   0.00000\n",
       "5  2024-09   0.00000"
      ],
      "text/html": [
       "<div>\n",
       "<style scoped>\n",
       "    .dataframe tbody tr th:only-of-type {\n",
       "        vertical-align: middle;\n",
       "    }\n",
       "\n",
       "    .dataframe tbody tr th {\n",
       "        vertical-align: top;\n",
       "    }\n",
       "\n",
       "    .dataframe thead th {\n",
       "        text-align: right;\n",
       "    }\n",
       "</style>\n",
       "<table border=\"1\" class=\"dataframe\">\n",
       "  <thead>\n",
       "    <tr style=\"text-align: right;\">\n",
       "      <th></th>\n",
       "      <th>month</th>\n",
       "      <th>cost</th>\n",
       "    </tr>\n",
       "  </thead>\n",
       "  <tbody>\n",
       "    <tr>\n",
       "      <th>0</th>\n",
       "      <td>2024-04</td>\n",
       "      <td>0.74475</td>\n",
       "    </tr>\n",
       "    <tr>\n",
       "      <th>1</th>\n",
       "      <td>2024-05</td>\n",
       "      <td>43.83558</td>\n",
       "    </tr>\n",
       "    <tr>\n",
       "      <th>2</th>\n",
       "      <td>2024-06</td>\n",
       "      <td>0.00000</td>\n",
       "    </tr>\n",
       "    <tr>\n",
       "      <th>3</th>\n",
       "      <td>2024-07</td>\n",
       "      <td>0.00000</td>\n",
       "    </tr>\n",
       "    <tr>\n",
       "      <th>4</th>\n",
       "      <td>2024-08</td>\n",
       "      <td>0.00000</td>\n",
       "    </tr>\n",
       "    <tr>\n",
       "      <th>5</th>\n",
       "      <td>2024-09</td>\n",
       "      <td>0.00000</td>\n",
       "    </tr>\n",
       "  </tbody>\n",
       "</table>\n",
       "</div>"
      ]
     },
     "execution_count": 60,
     "metadata": {},
     "output_type": "execute_result"
    }
   ],
   "execution_count": 60
  },
  {
   "cell_type": "markdown",
   "id": "44b557df",
   "metadata": {},
   "source": [
    "### Per server"
   ]
  },
  {
   "cell_type": "code",
   "id": "5c64b154",
   "metadata": {
    "ExecuteTime": {
     "end_time": "2024-09-28T21:09:30.695733Z",
     "start_time": "2024-09-28T21:09:29.296732Z"
    }
   },
   "source": [
    "sbn.barplot(\n",
    "    data=usage.groupby(['server', 'month']).cost.sum().reset_index(),\n",
    "    x='month',\n",
    "    y='cost',\n",
    "    hue='server'\n",
    ")"
   ],
   "outputs": [
    {
     "data": {
      "text/plain": [
       "<Axes: xlabel='month', ylabel='cost'>"
      ]
     },
     "execution_count": 61,
     "metadata": {},
     "output_type": "execute_result"
    },
    {
     "data": {
      "text/plain": [
       "<Figure size 640x480 with 1 Axes>"
      ],
      "image/png": "[encoded data removed]"
     },
     "metadata": {},
     "output_type": "display_data"
    }
   ],
   "execution_count": 61
  },
  {
   "cell_type": "markdown",
   "id": "a2ce1934",
   "metadata": {},
   "source": [
    "### Total"
   ]
  },
  {
   "metadata": {
    "ExecuteTime": {
     "end_time": "2024-09-28T21:09:31.635536Z",
     "start_time": "2024-09-28T21:09:30.796761Z"
    }
   },
   "cell_type": "code",
   "source": [
    "# sbn.barplot(\n",
    "#     data=usage.groupby(['month']).cost.sum().reset_index(),\n",
    "#     x='month',\n",
    "#     y='cost',\n",
    "# )"
   ],
   "id": "3e596c05",
   "outputs": [
    {
     "ename": "StopIteration",
     "evalue": "",
     "output_type": "error",
     "traceback": [
      "\u001B[1;31m---------------------------------------------------------------------------\u001B[0m",
      "\u001B[1;31mStopIteration\u001B[0m                             Traceback (most recent call last)",
      "Cell \u001B[1;32mIn[62], line 1\u001B[0m\n\u001B[1;32m----> 1\u001B[0m \u001B[43msbn\u001B[49m\u001B[38;5;241;43m.\u001B[39;49m\u001B[43mbarplot\u001B[49m\u001B[43m(\u001B[49m\n\u001B[0;32m      2\u001B[0m \u001B[43m    \u001B[49m\u001B[43mdata\u001B[49m\u001B[38;5;241;43m=\u001B[39;49m\u001B[43musage\u001B[49m\u001B[38;5;241;43m.\u001B[39;49m\u001B[43mgroupby\u001B[49m\u001B[43m(\u001B[49m\u001B[43m[\u001B[49m\u001B[38;5;124;43m'\u001B[39;49m\u001B[38;5;124;43mmonth\u001B[39;49m\u001B[38;5;124;43m'\u001B[39;49m\u001B[43m]\u001B[49m\u001B[43m)\u001B[49m\u001B[38;5;241;43m.\u001B[39;49m\u001B[43mcost\u001B[49m\u001B[38;5;241;43m.\u001B[39;49m\u001B[43msum\u001B[49m\u001B[43m(\u001B[49m\u001B[43m)\u001B[49m\u001B[38;5;241;43m.\u001B[39;49m\u001B[43mreset_index\u001B[49m\u001B[43m(\u001B[49m\u001B[43m)\u001B[49m\u001B[43m,\u001B[49m\n\u001B[0;32m      3\u001B[0m \u001B[43m    \u001B[49m\u001B[43mx\u001B[49m\u001B[38;5;241;43m=\u001B[39;49m\u001B[38;5;124;43m'\u001B[39;49m\u001B[38;5;124;43mmonth\u001B[39;49m\u001B[38;5;124;43m'\u001B[39;49m\u001B[43m,\u001B[49m\n\u001B[0;32m      4\u001B[0m \u001B[43m    \u001B[49m\u001B[43my\u001B[49m\u001B[38;5;241;43m=\u001B[39;49m\u001B[38;5;124;43m'\u001B[39;49m\u001B[38;5;124;43mcost\u001B[39;49m\u001B[38;5;124;43m'\u001B[39;49m\u001B[43m,\u001B[49m\n\u001B[0;32m      5\u001B[0m \u001B[43m)\u001B[49m\n",
      "File \u001B[1;32m~\\AppData\\Roaming\\Python\\Python311\\site-packages\\seaborn\\categorical.py:2371\u001B[0m, in \u001B[0;36mbarplot\u001B[1;34m(data, x, y, hue, order, hue_order, estimator, errorbar, n_boot, seed, units, weights, orient, color, palette, saturation, fill, hue_norm, width, dodge, gap, log_scale, native_scale, formatter, legend, capsize, err_kws, ci, errcolor, errwidth, ax, **kwargs)\u001B[0m\n\u001B[0;32m   2369\u001B[0m saturation \u001B[38;5;241m=\u001B[39m saturation \u001B[38;5;28;01mif\u001B[39;00m fill \u001B[38;5;28;01melse\u001B[39;00m \u001B[38;5;241m1\u001B[39m\n\u001B[0;32m   2370\u001B[0m p\u001B[38;5;241m.\u001B[39mmap_hue(palette\u001B[38;5;241m=\u001B[39mpalette, order\u001B[38;5;241m=\u001B[39mhue_order, norm\u001B[38;5;241m=\u001B[39mhue_norm, saturation\u001B[38;5;241m=\u001B[39msaturation)\n\u001B[1;32m-> 2371\u001B[0m color \u001B[38;5;241m=\u001B[39m \u001B[43m_default_color\u001B[49m\u001B[43m(\u001B[49m\u001B[43max\u001B[49m\u001B[38;5;241;43m.\u001B[39;49m\u001B[43mbar\u001B[49m\u001B[43m,\u001B[49m\u001B[43m \u001B[49m\u001B[43mhue\u001B[49m\u001B[43m,\u001B[49m\u001B[43m \u001B[49m\u001B[43mcolor\u001B[49m\u001B[43m,\u001B[49m\u001B[43m \u001B[49m\u001B[43mkwargs\u001B[49m\u001B[43m,\u001B[49m\u001B[43m \u001B[49m\u001B[43msaturation\u001B[49m\u001B[38;5;241;43m=\u001B[39;49m\u001B[43msaturation\u001B[49m\u001B[43m)\u001B[49m\n\u001B[0;32m   2373\u001B[0m agg_cls \u001B[38;5;241m=\u001B[39m WeightedAggregator \u001B[38;5;28;01mif\u001B[39;00m \u001B[38;5;124m\"\u001B[39m\u001B[38;5;124mweight\u001B[39m\u001B[38;5;124m\"\u001B[39m \u001B[38;5;129;01min\u001B[39;00m p\u001B[38;5;241m.\u001B[39mplot_data \u001B[38;5;28;01melse\u001B[39;00m EstimateAggregator\n\u001B[0;32m   2374\u001B[0m aggregator \u001B[38;5;241m=\u001B[39m agg_cls(estimator, errorbar, n_boot\u001B[38;5;241m=\u001B[39mn_boot, seed\u001B[38;5;241m=\u001B[39mseed)\n",
      "File \u001B[1;32m~\\AppData\\Roaming\\Python\\Python311\\site-packages\\seaborn\\utils.py:127\u001B[0m, in \u001B[0;36m_default_color\u001B[1;34m(method, hue, color, kws, saturation)\u001B[0m\n\u001B[0;32m    122\u001B[0m     scout\u001B[38;5;241m.\u001B[39mremove()\n\u001B[0;32m    124\u001B[0m \u001B[38;5;28;01melif\u001B[39;00m method\u001B[38;5;241m.\u001B[39m\u001B[38;5;18m__name__\u001B[39m \u001B[38;5;241m==\u001B[39m \u001B[38;5;124m\"\u001B[39m\u001B[38;5;124mbar\u001B[39m\u001B[38;5;124m\"\u001B[39m:\n\u001B[0;32m    125\u001B[0m \n\u001B[0;32m    126\u001B[0m     \u001B[38;5;66;03m# bar() needs masked, not empty data, to generate a patch\u001B[39;00m\n\u001B[1;32m--> 127\u001B[0m     scout, \u001B[38;5;241m=\u001B[39m \u001B[43mmethod\u001B[49m\u001B[43m(\u001B[49m\u001B[43m[\u001B[49m\u001B[43mnp\u001B[49m\u001B[38;5;241;43m.\u001B[39;49m\u001B[43mnan\u001B[49m\u001B[43m]\u001B[49m\u001B[43m,\u001B[49m\u001B[43m \u001B[49m\u001B[43m[\u001B[49m\u001B[43mnp\u001B[49m\u001B[38;5;241;43m.\u001B[39;49m\u001B[43mnan\u001B[49m\u001B[43m]\u001B[49m\u001B[43m,\u001B[49m\u001B[43m \u001B[49m\u001B[38;5;241;43m*\u001B[39;49m\u001B[38;5;241;43m*\u001B[39;49m\u001B[43mkws\u001B[49m\u001B[43m)\u001B[49m\n\u001B[0;32m    128\u001B[0m     color \u001B[38;5;241m=\u001B[39m to_rgb(scout\u001B[38;5;241m.\u001B[39mget_facecolor())\n\u001B[0;32m    129\u001B[0m     scout\u001B[38;5;241m.\u001B[39mremove()\n",
      "File \u001B[1;32m~\\AppData\\Roaming\\Python\\Python311\\site-packages\\matplotlib\\__init__.py:1478\u001B[0m, in \u001B[0;36m_preprocess_data.<locals>.inner\u001B[1;34m(ax, data, *args, **kwargs)\u001B[0m\n\u001B[0;32m   1475\u001B[0m \u001B[38;5;129m@functools\u001B[39m\u001B[38;5;241m.\u001B[39mwraps(func)\n\u001B[0;32m   1476\u001B[0m \u001B[38;5;28;01mdef\u001B[39;00m \u001B[38;5;21minner\u001B[39m(ax, \u001B[38;5;241m*\u001B[39margs, data\u001B[38;5;241m=\u001B[39m\u001B[38;5;28;01mNone\u001B[39;00m, \u001B[38;5;241m*\u001B[39m\u001B[38;5;241m*\u001B[39mkwargs):\n\u001B[0;32m   1477\u001B[0m     \u001B[38;5;28;01mif\u001B[39;00m data \u001B[38;5;129;01mis\u001B[39;00m \u001B[38;5;28;01mNone\u001B[39;00m:\n\u001B[1;32m-> 1478\u001B[0m         \u001B[38;5;28;01mreturn\u001B[39;00m \u001B[43mfunc\u001B[49m\u001B[43m(\u001B[49m\u001B[43max\u001B[49m\u001B[43m,\u001B[49m\u001B[43m \u001B[49m\u001B[38;5;241;43m*\u001B[39;49m\u001B[38;5;28;43mmap\u001B[39;49m\u001B[43m(\u001B[49m\u001B[43msanitize_sequence\u001B[49m\u001B[43m,\u001B[49m\u001B[43m \u001B[49m\u001B[43margs\u001B[49m\u001B[43m)\u001B[49m\u001B[43m,\u001B[49m\u001B[43m \u001B[49m\u001B[38;5;241;43m*\u001B[39;49m\u001B[38;5;241;43m*\u001B[39;49m\u001B[43mkwargs\u001B[49m\u001B[43m)\u001B[49m\n\u001B[0;32m   1480\u001B[0m     bound \u001B[38;5;241m=\u001B[39m new_sig\u001B[38;5;241m.\u001B[39mbind(ax, \u001B[38;5;241m*\u001B[39margs, \u001B[38;5;241m*\u001B[39m\u001B[38;5;241m*\u001B[39mkwargs)\n\u001B[0;32m   1481\u001B[0m     auto_label \u001B[38;5;241m=\u001B[39m (bound\u001B[38;5;241m.\u001B[39marguments\u001B[38;5;241m.\u001B[39mget(label_namer)\n\u001B[0;32m   1482\u001B[0m                   \u001B[38;5;129;01mor\u001B[39;00m bound\u001B[38;5;241m.\u001B[39mkwargs\u001B[38;5;241m.\u001B[39mget(label_namer))\n",
      "File \u001B[1;32m~\\AppData\\Roaming\\Python\\Python311\\site-packages\\matplotlib\\axes\\_axes.py:2447\u001B[0m, in \u001B[0;36mAxes.bar\u001B[1;34m(self, x, height, width, bottom, align, **kwargs)\u001B[0m\n\u001B[0;32m   2445\u001B[0m x0 \u001B[38;5;241m=\u001B[39m x\n\u001B[0;32m   2446\u001B[0m x \u001B[38;5;241m=\u001B[39m np\u001B[38;5;241m.\u001B[39masarray(\u001B[38;5;28mself\u001B[39m\u001B[38;5;241m.\u001B[39mconvert_xunits(x))\n\u001B[1;32m-> 2447\u001B[0m width \u001B[38;5;241m=\u001B[39m \u001B[38;5;28;43mself\u001B[39;49m\u001B[38;5;241;43m.\u001B[39;49m\u001B[43m_convert_dx\u001B[49m\u001B[43m(\u001B[49m\u001B[43mwidth\u001B[49m\u001B[43m,\u001B[49m\u001B[43m \u001B[49m\u001B[43mx0\u001B[49m\u001B[43m,\u001B[49m\u001B[43m \u001B[49m\u001B[43mx\u001B[49m\u001B[43m,\u001B[49m\u001B[43m \u001B[49m\u001B[38;5;28;43mself\u001B[39;49m\u001B[38;5;241;43m.\u001B[39;49m\u001B[43mconvert_xunits\u001B[49m\u001B[43m)\u001B[49m\n\u001B[0;32m   2448\u001B[0m \u001B[38;5;28;01mif\u001B[39;00m xerr \u001B[38;5;129;01mis\u001B[39;00m \u001B[38;5;129;01mnot\u001B[39;00m \u001B[38;5;28;01mNone\u001B[39;00m:\n\u001B[0;32m   2449\u001B[0m     xerr \u001B[38;5;241m=\u001B[39m \u001B[38;5;28mself\u001B[39m\u001B[38;5;241m.\u001B[39m_convert_dx(xerr, x0, x, \u001B[38;5;28mself\u001B[39m\u001B[38;5;241m.\u001B[39mconvert_xunits)\n",
      "File \u001B[1;32m~\\AppData\\Roaming\\Python\\Python311\\site-packages\\matplotlib\\axes\\_axes.py:2241\u001B[0m, in \u001B[0;36mAxes._convert_dx\u001B[1;34m(dx, x0, xconv, convert)\u001B[0m\n\u001B[0;32m   2229\u001B[0m \u001B[38;5;28;01mtry\u001B[39;00m:\n\u001B[0;32m   2230\u001B[0m     \u001B[38;5;66;03m# attempt to add the width to x0; this works for\u001B[39;00m\n\u001B[0;32m   2231\u001B[0m     \u001B[38;5;66;03m# datetime+timedelta, for instance\u001B[39;00m\n\u001B[1;32m   (...)\u001B[0m\n\u001B[0;32m   2238\u001B[0m     \u001B[38;5;66;03m# removes the units from unit packages like `pint` that\u001B[39;00m\n\u001B[0;32m   2239\u001B[0m     \u001B[38;5;66;03m# wrap numpy arrays.\u001B[39;00m\n\u001B[0;32m   2240\u001B[0m     \u001B[38;5;28;01mtry\u001B[39;00m:\n\u001B[1;32m-> 2241\u001B[0m         x0 \u001B[38;5;241m=\u001B[39m \u001B[43mcbook\u001B[49m\u001B[38;5;241;43m.\u001B[39;49m\u001B[43m_safe_first_finite\u001B[49m\u001B[43m(\u001B[49m\u001B[43mx0\u001B[49m\u001B[43m)\u001B[49m\n\u001B[0;32m   2242\u001B[0m     \u001B[38;5;28;01mexcept\u001B[39;00m (\u001B[38;5;167;01mTypeError\u001B[39;00m, \u001B[38;5;167;01mIndexError\u001B[39;00m, \u001B[38;5;167;01mKeyError\u001B[39;00m):\n\u001B[0;32m   2243\u001B[0m         \u001B[38;5;28;01mpass\u001B[39;00m\n",
      "File \u001B[1;32m~\\AppData\\Roaming\\Python\\Python311\\site-packages\\matplotlib\\cbook\\__init__.py:1749\u001B[0m, in \u001B[0;36m_safe_first_finite\u001B[1;34m(obj, skip_nonfinite)\u001B[0m\n\u001B[0;32m   1746\u001B[0m     \u001B[38;5;28;01mraise\u001B[39;00m \u001B[38;5;167;01mRuntimeError\u001B[39;00m(\u001B[38;5;124m\"\u001B[39m\u001B[38;5;124mmatplotlib does not \u001B[39m\u001B[38;5;124m\"\u001B[39m\n\u001B[0;32m   1747\u001B[0m                        \u001B[38;5;124m\"\u001B[39m\u001B[38;5;124msupport generators as input\u001B[39m\u001B[38;5;124m\"\u001B[39m)\n\u001B[0;32m   1748\u001B[0m \u001B[38;5;28;01melse\u001B[39;00m:\n\u001B[1;32m-> 1749\u001B[0m     \u001B[38;5;28;01mreturn\u001B[39;00m \u001B[38;5;28mnext\u001B[39m(val \u001B[38;5;28;01mfor\u001B[39;00m val \u001B[38;5;129;01min\u001B[39;00m obj \u001B[38;5;28;01mif\u001B[39;00m safe_isfinite(val))\n",
      "\u001B[1;31mStopIteration\u001B[0m: "
     ]
    },
    {
     "data": {
      "text/plain": [
       "<Figure size 640x480 with 1 Axes>"
      ],
      "image/png": "[encoded data removed]"
     },
     "metadata": {},
     "output_type": "display_data"
    }
   ],
   "execution_count": 62
  },
  {
   "cell_type": "markdown",
   "id": "3e172f6b",
   "metadata": {},
   "source": [
    "**NOTE**\n",
    "\n",
    "2024-01-26: the default engine was changed from `gpt-4` to `gpt-4-turbo-preview` which reduced the pricing from 0.03/0.06 to 0.01/0.02 (input/output per 1k tokens)."
   ]
  },
  {
   "cell_type": "markdown",
   "id": "e5f02371",
   "metadata": {},
   "source": [
    "## Usage Time-of-day"
   ]
  },
  {
   "metadata": {
    "ExecuteTime": {
     "end_time": "2024-09-28T21:33:38.808398Z",
     "start_time": "2024-09-28T21:33:38.788377Z"
    }
   },
   "cell_type": "code",
   "source": "usage[\"hour_of_day\"].value_counts().sort_index().reset_index()\n",
   "id": "7ccd431ae58cad9e",
   "outputs": [
    {
     "data": {
      "text/plain": [
       "    hour_of_day  count\n",
       "0             0     58\n",
       "1             1    205\n",
       "2             2    434\n",
       "3             3    988\n",
       "4             4   1227\n",
       "5             5   1105\n",
       "6             6   1027\n",
       "7             7    838\n",
       "8             8   1571\n",
       "9             9   1758\n",
       "10           10   1364\n",
       "11           11   1151\n",
       "12           12    872\n",
       "13           13   1019\n",
       "14           14    957\n",
       "15           15    856\n",
       "16           16    614\n",
       "17           17    182\n",
       "18           18     81\n",
       "19           19     36\n",
       "20           20      7\n",
       "21           21     33\n",
       "22           22      8\n",
       "23           23      5"
      ],
      "text/html": [
       "<div>\n",
       "<style scoped>\n",
       "    .dataframe tbody tr th:only-of-type {\n",
       "        vertical-align: middle;\n",
       "    }\n",
       "\n",
       "    .dataframe tbody tr th {\n",
       "        vertical-align: top;\n",
       "    }\n",
       "\n",
       "    .dataframe thead th {\n",
       "        text-align: right;\n",
       "    }\n",
       "</style>\n",
       "<table border=\"1\" class=\"dataframe\">\n",
       "  <thead>\n",
       "    <tr style=\"text-align: right;\">\n",
       "      <th></th>\n",
       "      <th>hour_of_day</th>\n",
       "      <th>count</th>\n",
       "    </tr>\n",
       "  </thead>\n",
       "  <tbody>\n",
       "    <tr>\n",
       "      <th>0</th>\n",
       "      <td>0</td>\n",
       "      <td>58</td>\n",
       "    </tr>\n",
       "    <tr>\n",
       "      <th>1</th>\n",
       "      <td>1</td>\n",
       "      <td>205</td>\n",
       "    </tr>\n",
       "    <tr>\n",
       "      <th>2</th>\n",
       "      <td>2</td>\n",
       "      <td>434</td>\n",
       "    </tr>\n",
       "    <tr>\n",
       "      <th>3</th>\n",
       "      <td>3</td>\n",
       "      <td>988</td>\n",
       "    </tr>\n",
       "    <tr>\n",
       "      <th>4</th>\n",
       "      <td>4</td>\n",
       "      <td>1227</td>\n",
       "    </tr>\n",
       "    <tr>\n",
       "      <th>5</th>\n",
       "      <td>5</td>\n",
       "      <td>1105</td>\n",
       "    </tr>\n",
       "    <tr>\n",
       "      <th>6</th>\n",
       "      <td>6</td>\n",
       "      <td>1027</td>\n",
       "    </tr>\n",
       "    <tr>\n",
       "      <th>7</th>\n",
       "      <td>7</td>\n",
       "      <td>838</td>\n",
       "    </tr>\n",
       "    <tr>\n",
       "      <th>8</th>\n",
       "      <td>8</td>\n",
       "      <td>1571</td>\n",
       "    </tr>\n",
       "    <tr>\n",
       "      <th>9</th>\n",
       "      <td>9</td>\n",
       "      <td>1758</td>\n",
       "    </tr>\n",
       "    <tr>\n",
       "      <th>10</th>\n",
       "      <td>10</td>\n",
       "      <td>1364</td>\n",
       "    </tr>\n",
       "    <tr>\n",
       "      <th>11</th>\n",
       "      <td>11</td>\n",
       "      <td>1151</td>\n",
       "    </tr>\n",
       "    <tr>\n",
       "      <th>12</th>\n",
       "      <td>12</td>\n",
       "      <td>872</td>\n",
       "    </tr>\n",
       "    <tr>\n",
       "      <th>13</th>\n",
       "      <td>13</td>\n",
       "      <td>1019</td>\n",
       "    </tr>\n",
       "    <tr>\n",
       "      <th>14</th>\n",
       "      <td>14</td>\n",
       "      <td>957</td>\n",
       "    </tr>\n",
       "    <tr>\n",
       "      <th>15</th>\n",
       "      <td>15</td>\n",
       "      <td>856</td>\n",
       "    </tr>\n",
       "    <tr>\n",
       "      <th>16</th>\n",
       "      <td>16</td>\n",
       "      <td>614</td>\n",
       "    </tr>\n",
       "    <tr>\n",
       "      <th>17</th>\n",
       "      <td>17</td>\n",
       "      <td>182</td>\n",
       "    </tr>\n",
       "    <tr>\n",
       "      <th>18</th>\n",
       "      <td>18</td>\n",
       "      <td>81</td>\n",
       "    </tr>\n",
       "    <tr>\n",
       "      <th>19</th>\n",
       "      <td>19</td>\n",
       "      <td>36</td>\n",
       "    </tr>\n",
       "    <tr>\n",
       "      <th>20</th>\n",
       "      <td>20</td>\n",
       "      <td>7</td>\n",
       "    </tr>\n",
       "    <tr>\n",
       "      <th>21</th>\n",
       "      <td>21</td>\n",
       "      <td>33</td>\n",
       "    </tr>\n",
       "    <tr>\n",
       "      <th>22</th>\n",
       "      <td>22</td>\n",
       "      <td>8</td>\n",
       "    </tr>\n",
       "    <tr>\n",
       "      <th>23</th>\n",
       "      <td>23</td>\n",
       "      <td>5</td>\n",
       "    </tr>\n",
       "  </tbody>\n",
       "</table>\n",
       "</div>"
      ]
     },
     "execution_count": 116,
     "metadata": {},
     "output_type": "execute_result"
    }
   ],
   "execution_count": 116
  },
  {
   "metadata": {
    "ExecuteTime": {
     "end_time": "2024-09-28T21:37:16.467774Z",
     "start_time": "2024-09-28T21:37:16.456526Z"
    }
   },
   "cell_type": "code",
   "source": [
    "df = usage[\"hour_of_day\"].value_counts().sort_index().reset_index()\n",
    "\n",
    "# Rename columns for clarity (optional)\n",
    "df.columns = ['hour_of_day', 'count']"
   ],
   "id": "93b3cedfc4c5367b",
   "outputs": [],
   "execution_count": 119
  },
  {
   "metadata": {
    "ExecuteTime": {
     "end_time": "2024-09-28T21:37:26.420872Z",
     "start_time": "2024-09-28T21:37:25.842858Z"
    }
   },
   "cell_type": "code",
   "source": [
    "sbn.barplot(\n",
    "    data=df,\n",
    "    x='hour_of_day',\n",
    "    y='count'\n",
    ")\n",
    "plt.xlabel('Hour of day')\n",
    "plt.ylabel('# of conversations')\n",
    "\n",
    "# Add typical TA working hours\n",
    "xlim = plt.xlim()\n",
    "ylim = plt.ylim()\n",
    "\n",
    "plt.plot([9-1, 9-1], ylim, ls='--', c='k')  # subtract 1 to account for 0 hour label\n",
    "plt.plot([18-1, 18-1], ylim, ls='--', c='k')\n",
    "\n",
    "plt.xlim(xlim)\n",
    "plt.ylim(ylim)"
   ],
   "id": "cbb3a37a",
   "outputs": [
    {
     "ename": "StopIteration",
     "evalue": "",
     "output_type": "error",
     "traceback": [
      "\u001B[1;31m---------------------------------------------------------------------------\u001B[0m",
      "\u001B[1;31mStopIteration\u001B[0m                             Traceback (most recent call last)",
      "Cell \u001B[1;32mIn[121], line 1\u001B[0m\n\u001B[1;32m----> 1\u001B[0m \u001B[43msbn\u001B[49m\u001B[38;5;241;43m.\u001B[39;49m\u001B[43mbarplot\u001B[49m\u001B[43m(\u001B[49m\n\u001B[0;32m      2\u001B[0m \u001B[43m    \u001B[49m\u001B[43mdata\u001B[49m\u001B[38;5;241;43m=\u001B[39;49m\u001B[43mdf\u001B[49m\u001B[43m,\u001B[49m\n\u001B[0;32m      3\u001B[0m \u001B[43m    \u001B[49m\u001B[43mx\u001B[49m\u001B[38;5;241;43m=\u001B[39;49m\u001B[38;5;124;43m'\u001B[39;49m\u001B[38;5;124;43mhour_of_day\u001B[39;49m\u001B[38;5;124;43m'\u001B[39;49m\u001B[43m,\u001B[49m\n\u001B[0;32m      4\u001B[0m \u001B[43m    \u001B[49m\u001B[43my\u001B[49m\u001B[38;5;241;43m=\u001B[39;49m\u001B[38;5;124;43m'\u001B[39;49m\u001B[38;5;124;43mcount\u001B[39;49m\u001B[38;5;124;43m'\u001B[39;49m\n\u001B[0;32m      5\u001B[0m \u001B[43m)\u001B[49m\n\u001B[0;32m      6\u001B[0m plt\u001B[38;5;241m.\u001B[39mxlabel(\u001B[38;5;124m'\u001B[39m\u001B[38;5;124mHour of day\u001B[39m\u001B[38;5;124m'\u001B[39m)\n\u001B[0;32m      7\u001B[0m plt\u001B[38;5;241m.\u001B[39mylabel(\u001B[38;5;124m'\u001B[39m\u001B[38;5;124m# of conversations\u001B[39m\u001B[38;5;124m'\u001B[39m)\n",
      "File \u001B[1;32m~\\AppData\\Roaming\\Python\\Python311\\site-packages\\seaborn\\categorical.py:2371\u001B[0m, in \u001B[0;36mbarplot\u001B[1;34m(data, x, y, hue, order, hue_order, estimator, errorbar, n_boot, seed, units, weights, orient, color, palette, saturation, fill, hue_norm, width, dodge, gap, log_scale, native_scale, formatter, legend, capsize, err_kws, ci, errcolor, errwidth, ax, **kwargs)\u001B[0m\n\u001B[0;32m   2369\u001B[0m saturation \u001B[38;5;241m=\u001B[39m saturation \u001B[38;5;28;01mif\u001B[39;00m fill \u001B[38;5;28;01melse\u001B[39;00m \u001B[38;5;241m1\u001B[39m\n\u001B[0;32m   2370\u001B[0m p\u001B[38;5;241m.\u001B[39mmap_hue(palette\u001B[38;5;241m=\u001B[39mpalette, order\u001B[38;5;241m=\u001B[39mhue_order, norm\u001B[38;5;241m=\u001B[39mhue_norm, saturation\u001B[38;5;241m=\u001B[39msaturation)\n\u001B[1;32m-> 2371\u001B[0m color \u001B[38;5;241m=\u001B[39m \u001B[43m_default_color\u001B[49m\u001B[43m(\u001B[49m\u001B[43max\u001B[49m\u001B[38;5;241;43m.\u001B[39;49m\u001B[43mbar\u001B[49m\u001B[43m,\u001B[49m\u001B[43m \u001B[49m\u001B[43mhue\u001B[49m\u001B[43m,\u001B[49m\u001B[43m \u001B[49m\u001B[43mcolor\u001B[49m\u001B[43m,\u001B[49m\u001B[43m \u001B[49m\u001B[43mkwargs\u001B[49m\u001B[43m,\u001B[49m\u001B[43m \u001B[49m\u001B[43msaturation\u001B[49m\u001B[38;5;241;43m=\u001B[39;49m\u001B[43msaturation\u001B[49m\u001B[43m)\u001B[49m\n\u001B[0;32m   2373\u001B[0m agg_cls \u001B[38;5;241m=\u001B[39m WeightedAggregator \u001B[38;5;28;01mif\u001B[39;00m \u001B[38;5;124m\"\u001B[39m\u001B[38;5;124mweight\u001B[39m\u001B[38;5;124m\"\u001B[39m \u001B[38;5;129;01min\u001B[39;00m p\u001B[38;5;241m.\u001B[39mplot_data \u001B[38;5;28;01melse\u001B[39;00m EstimateAggregator\n\u001B[0;32m   2374\u001B[0m aggregator \u001B[38;5;241m=\u001B[39m agg_cls(estimator, errorbar, n_boot\u001B[38;5;241m=\u001B[39mn_boot, seed\u001B[38;5;241m=\u001B[39mseed)\n",
      "File \u001B[1;32m~\\AppData\\Roaming\\Python\\Python311\\site-packages\\seaborn\\utils.py:127\u001B[0m, in \u001B[0;36m_default_color\u001B[1;34m(method, hue, color, kws, saturation)\u001B[0m\n\u001B[0;32m    122\u001B[0m     scout\u001B[38;5;241m.\u001B[39mremove()\n\u001B[0;32m    124\u001B[0m \u001B[38;5;28;01melif\u001B[39;00m method\u001B[38;5;241m.\u001B[39m\u001B[38;5;18m__name__\u001B[39m \u001B[38;5;241m==\u001B[39m \u001B[38;5;124m\"\u001B[39m\u001B[38;5;124mbar\u001B[39m\u001B[38;5;124m\"\u001B[39m:\n\u001B[0;32m    125\u001B[0m \n\u001B[0;32m    126\u001B[0m     \u001B[38;5;66;03m# bar() needs masked, not empty data, to generate a patch\u001B[39;00m\n\u001B[1;32m--> 127\u001B[0m     scout, \u001B[38;5;241m=\u001B[39m \u001B[43mmethod\u001B[49m\u001B[43m(\u001B[49m\u001B[43m[\u001B[49m\u001B[43mnp\u001B[49m\u001B[38;5;241;43m.\u001B[39;49m\u001B[43mnan\u001B[49m\u001B[43m]\u001B[49m\u001B[43m,\u001B[49m\u001B[43m \u001B[49m\u001B[43m[\u001B[49m\u001B[43mnp\u001B[49m\u001B[38;5;241;43m.\u001B[39;49m\u001B[43mnan\u001B[49m\u001B[43m]\u001B[49m\u001B[43m,\u001B[49m\u001B[43m \u001B[49m\u001B[38;5;241;43m*\u001B[39;49m\u001B[38;5;241;43m*\u001B[39;49m\u001B[43mkws\u001B[49m\u001B[43m)\u001B[49m\n\u001B[0;32m    128\u001B[0m     color \u001B[38;5;241m=\u001B[39m to_rgb(scout\u001B[38;5;241m.\u001B[39mget_facecolor())\n\u001B[0;32m    129\u001B[0m     scout\u001B[38;5;241m.\u001B[39mremove()\n",
      "File \u001B[1;32m~\\AppData\\Roaming\\Python\\Python311\\site-packages\\matplotlib\\__init__.py:1478\u001B[0m, in \u001B[0;36m_preprocess_data.<locals>.inner\u001B[1;34m(ax, data, *args, **kwargs)\u001B[0m\n\u001B[0;32m   1475\u001B[0m \u001B[38;5;129m@functools\u001B[39m\u001B[38;5;241m.\u001B[39mwraps(func)\n\u001B[0;32m   1476\u001B[0m \u001B[38;5;28;01mdef\u001B[39;00m \u001B[38;5;21minner\u001B[39m(ax, \u001B[38;5;241m*\u001B[39margs, data\u001B[38;5;241m=\u001B[39m\u001B[38;5;28;01mNone\u001B[39;00m, \u001B[38;5;241m*\u001B[39m\u001B[38;5;241m*\u001B[39mkwargs):\n\u001B[0;32m   1477\u001B[0m     \u001B[38;5;28;01mif\u001B[39;00m data \u001B[38;5;129;01mis\u001B[39;00m \u001B[38;5;28;01mNone\u001B[39;00m:\n\u001B[1;32m-> 1478\u001B[0m         \u001B[38;5;28;01mreturn\u001B[39;00m \u001B[43mfunc\u001B[49m\u001B[43m(\u001B[49m\u001B[43max\u001B[49m\u001B[43m,\u001B[49m\u001B[43m \u001B[49m\u001B[38;5;241;43m*\u001B[39;49m\u001B[38;5;28;43mmap\u001B[39;49m\u001B[43m(\u001B[49m\u001B[43msanitize_sequence\u001B[49m\u001B[43m,\u001B[49m\u001B[43m \u001B[49m\u001B[43margs\u001B[49m\u001B[43m)\u001B[49m\u001B[43m,\u001B[49m\u001B[43m \u001B[49m\u001B[38;5;241;43m*\u001B[39;49m\u001B[38;5;241;43m*\u001B[39;49m\u001B[43mkwargs\u001B[49m\u001B[43m)\u001B[49m\n\u001B[0;32m   1480\u001B[0m     bound \u001B[38;5;241m=\u001B[39m new_sig\u001B[38;5;241m.\u001B[39mbind(ax, \u001B[38;5;241m*\u001B[39margs, \u001B[38;5;241m*\u001B[39m\u001B[38;5;241m*\u001B[39mkwargs)\n\u001B[0;32m   1481\u001B[0m     auto_label \u001B[38;5;241m=\u001B[39m (bound\u001B[38;5;241m.\u001B[39marguments\u001B[38;5;241m.\u001B[39mget(label_namer)\n\u001B[0;32m   1482\u001B[0m                   \u001B[38;5;129;01mor\u001B[39;00m bound\u001B[38;5;241m.\u001B[39mkwargs\u001B[38;5;241m.\u001B[39mget(label_namer))\n",
      "File \u001B[1;32m~\\AppData\\Roaming\\Python\\Python311\\site-packages\\matplotlib\\axes\\_axes.py:2447\u001B[0m, in \u001B[0;36mAxes.bar\u001B[1;34m(self, x, height, width, bottom, align, **kwargs)\u001B[0m\n\u001B[0;32m   2445\u001B[0m x0 \u001B[38;5;241m=\u001B[39m x\n\u001B[0;32m   2446\u001B[0m x \u001B[38;5;241m=\u001B[39m np\u001B[38;5;241m.\u001B[39masarray(\u001B[38;5;28mself\u001B[39m\u001B[38;5;241m.\u001B[39mconvert_xunits(x))\n\u001B[1;32m-> 2447\u001B[0m width \u001B[38;5;241m=\u001B[39m \u001B[38;5;28;43mself\u001B[39;49m\u001B[38;5;241;43m.\u001B[39;49m\u001B[43m_convert_dx\u001B[49m\u001B[43m(\u001B[49m\u001B[43mwidth\u001B[49m\u001B[43m,\u001B[49m\u001B[43m \u001B[49m\u001B[43mx0\u001B[49m\u001B[43m,\u001B[49m\u001B[43m \u001B[49m\u001B[43mx\u001B[49m\u001B[43m,\u001B[49m\u001B[43m \u001B[49m\u001B[38;5;28;43mself\u001B[39;49m\u001B[38;5;241;43m.\u001B[39;49m\u001B[43mconvert_xunits\u001B[49m\u001B[43m)\u001B[49m\n\u001B[0;32m   2448\u001B[0m \u001B[38;5;28;01mif\u001B[39;00m xerr \u001B[38;5;129;01mis\u001B[39;00m \u001B[38;5;129;01mnot\u001B[39;00m \u001B[38;5;28;01mNone\u001B[39;00m:\n\u001B[0;32m   2449\u001B[0m     xerr \u001B[38;5;241m=\u001B[39m \u001B[38;5;28mself\u001B[39m\u001B[38;5;241m.\u001B[39m_convert_dx(xerr, x0, x, \u001B[38;5;28mself\u001B[39m\u001B[38;5;241m.\u001B[39mconvert_xunits)\n",
      "File \u001B[1;32m~\\AppData\\Roaming\\Python\\Python311\\site-packages\\matplotlib\\axes\\_axes.py:2241\u001B[0m, in \u001B[0;36mAxes._convert_dx\u001B[1;34m(dx, x0, xconv, convert)\u001B[0m\n\u001B[0;32m   2229\u001B[0m \u001B[38;5;28;01mtry\u001B[39;00m:\n\u001B[0;32m   2230\u001B[0m     \u001B[38;5;66;03m# attempt to add the width to x0; this works for\u001B[39;00m\n\u001B[0;32m   2231\u001B[0m     \u001B[38;5;66;03m# datetime+timedelta, for instance\u001B[39;00m\n\u001B[1;32m   (...)\u001B[0m\n\u001B[0;32m   2238\u001B[0m     \u001B[38;5;66;03m# removes the units from unit packages like `pint` that\u001B[39;00m\n\u001B[0;32m   2239\u001B[0m     \u001B[38;5;66;03m# wrap numpy arrays.\u001B[39;00m\n\u001B[0;32m   2240\u001B[0m     \u001B[38;5;28;01mtry\u001B[39;00m:\n\u001B[1;32m-> 2241\u001B[0m         x0 \u001B[38;5;241m=\u001B[39m \u001B[43mcbook\u001B[49m\u001B[38;5;241;43m.\u001B[39;49m\u001B[43m_safe_first_finite\u001B[49m\u001B[43m(\u001B[49m\u001B[43mx0\u001B[49m\u001B[43m)\u001B[49m\n\u001B[0;32m   2242\u001B[0m     \u001B[38;5;28;01mexcept\u001B[39;00m (\u001B[38;5;167;01mTypeError\u001B[39;00m, \u001B[38;5;167;01mIndexError\u001B[39;00m, \u001B[38;5;167;01mKeyError\u001B[39;00m):\n\u001B[0;32m   2243\u001B[0m         \u001B[38;5;28;01mpass\u001B[39;00m\n",
      "File \u001B[1;32m~\\AppData\\Roaming\\Python\\Python311\\site-packages\\matplotlib\\cbook\\__init__.py:1749\u001B[0m, in \u001B[0;36m_safe_first_finite\u001B[1;34m(obj, skip_nonfinite)\u001B[0m\n\u001B[0;32m   1746\u001B[0m     \u001B[38;5;28;01mraise\u001B[39;00m \u001B[38;5;167;01mRuntimeError\u001B[39;00m(\u001B[38;5;124m\"\u001B[39m\u001B[38;5;124mmatplotlib does not \u001B[39m\u001B[38;5;124m\"\u001B[39m\n\u001B[0;32m   1747\u001B[0m                        \u001B[38;5;124m\"\u001B[39m\u001B[38;5;124msupport generators as input\u001B[39m\u001B[38;5;124m\"\u001B[39m)\n\u001B[0;32m   1748\u001B[0m \u001B[38;5;28;01melse\u001B[39;00m:\n\u001B[1;32m-> 1749\u001B[0m     \u001B[38;5;28;01mreturn\u001B[39;00m \u001B[38;5;28mnext\u001B[39m(val \u001B[38;5;28;01mfor\u001B[39;00m val \u001B[38;5;129;01min\u001B[39;00m obj \u001B[38;5;28;01mif\u001B[39;00m safe_isfinite(val))\n",
      "\u001B[1;31mStopIteration\u001B[0m: "
     ]
    },
    {
     "data": {
      "text/plain": [
       "<Figure size 640x480 with 1 Axes>"
      ],
      "image/png": "[encoded data removed]"
     },
     "metadata": {},
     "output_type": "display_data"
    }
   ],
   "execution_count": 121
  },
  {
   "cell_type": "markdown",
   "id": "37f0b47d",
   "metadata": {},
   "source": [
    "## Number of conversations per month per server"
   ]
  },
  {
   "cell_type": "code",
   "id": "ba94fee7",
   "metadata": {
    "ExecuteTime": {
     "end_time": "2024-09-28T21:10:17.000042Z",
     "start_time": "2024-09-28T21:10:16.155065Z"
    }
   },
   "source": [
    "sbn.barplot(\n",
    "    data=usage.groupby(['server', 'month']).thread_id.nunique().reset_index(),\n",
    "    x='month',\n",
    "    y='thread_id',\n",
    "    hue='server'\n",
    ")\n",
    "plt.ylabel('# of conversations')"
   ],
   "outputs": [
    {
     "data": {
      "text/plain": [
       "Text(0, 0.5, '# of conversations')"
      ]
     },
     "execution_count": 65,
     "metadata": {},
     "output_type": "execute_result"
    },
    {
     "data": {
      "text/plain": [
       "<Figure size 640x480 with 1 Axes>"
      ],
      "image/png": "[encoded data removed]"
     },
     "metadata": {},
     "output_type": "display_data"
    }
   ],
   "execution_count": 65
  },
  {
   "cell_type": "markdown",
   "id": "9068ba41",
   "metadata": {},
   "source": [
    "## Number of users per month per server"
   ]
  },
  {
   "cell_type": "code",
   "id": "b8635b41",
   "metadata": {
    "ExecuteTime": {
     "end_time": "2024-09-28T21:10:38.363059Z",
     "start_time": "2024-09-28T21:10:37.485205Z"
    }
   },
   "source": [
    "sbn.barplot(\n",
    "    data=usage.groupby(['server', 'month']).user_id.nunique().reset_index(),\n",
    "    x='month',\n",
    "    y='user_id',\n",
    "    hue='server'\n",
    ")\n",
    "plt.ylabel('# of users')"
   ],
   "outputs": [
    {
     "data": {
      "text/plain": [
       "Text(0, 0.5, '# of users')"
      ]
     },
     "execution_count": 67,
     "metadata": {},
     "output_type": "execute_result"
    },
    {
     "data": {
      "text/plain": [
       "<Figure size 640x480 with 1 Axes>"
      ],
      "image/png": "[encoded data removed]"
     },
     "metadata": {},
     "output_type": "display_data"
    }
   ],
   "execution_count": 67
  },
  {
   "cell_type": "markdown",
   "id": "efb6a2ec",
   "metadata": {},
   "source": [
    "## Number of coversations per user per month per server"
   ]
  },
  {
   "cell_type": "code",
   "id": "3e99a907",
   "metadata": {
    "ExecuteTime": {
     "end_time": "2024-09-28T21:11:02.414489Z",
     "start_time": "2024-09-28T21:11:01.513937Z"
    }
   },
   "source": [
    "sbn.barplot(\n",
    "    data=(usage.groupby(['server', 'month']).thread_id.nunique() \n",
    "          / usage.groupby(['server', 'month']).user_id.nunique()).reset_index(),\n",
    "    x='month',\n",
    "    y=0,\n",
    "    hue='server'\n",
    ")\n",
    "plt.ylabel('# of conversations per user')"
   ],
   "outputs": [
    {
     "data": {
      "text/plain": [
       "Text(0, 0.5, '# of conversations per user')"
      ]
     },
     "execution_count": 69,
     "metadata": {},
     "output_type": "execute_result"
    },
    {
     "data": {
      "text/plain": [
       "<Figure size 640x480 with 1 Axes>"
      ],
      "image/png": "[encoded data removed]"
     },
     "metadata": {},
     "output_type": "display_data"
    }
   ],
   "execution_count": 69
  },
  {
   "cell_type": "markdown",
   "id": "f6a38630",
   "metadata": {},
   "source": [
    "## Miscellaneous Findings"
   ]
  },
  {
   "cell_type": "markdown",
   "id": "571f3dc7",
   "metadata": {},
   "source": [
    "### Conversation lengths (tokens)"
   ]
  },
  {
   "cell_type": "code",
   "id": "fd12a9bc",
   "metadata": {},
   "source": [
    "sbn.boxplot(\n",
    "    data=usage.groupby(['guild','thread_id']).input_tokens.max().reset_index(),\n",
    "    x='guild',\n",
    "    y='input_tokens'\n",
    ")\n",
    "plt.title('Conversation lengths across servers')\n",
    "plt.xlabel('Server')\n",
    "plt.ylabel('Conversation length (tokens)')"
   ],
   "outputs": [],
   "execution_count": null
  },
  {
   "cell_type": "markdown",
   "id": "20c9d973",
   "metadata": {},
   "source": [
    "### Conversation lengths (messages)"
   ]
  },
  {
   "cell_type": "code",
   "id": "afeab25d",
   "metadata": {},
   "source": [
    "sbn.boxplot(\n",
    "    data=usage.groupby(['guild','thread_id']).input_tokens.count().reset_index(),\n",
    "    x='guild',\n",
    "    y='input_tokens'\n",
    ")\n",
    "plt.title('Conversation lengths across servers')\n",
    "plt.xlabel('Server')\n",
    "plt.ylabel('Conversation length (messages)')"
   ],
   "outputs": [],
   "execution_count": null
  },
  {
   "cell_type": "markdown",
   "id": "3c60c098",
   "metadata": {},
   "source": [
    "### Conversation lengths per month (messages)"
   ]
  },
  {
   "cell_type": "code",
   "id": "0a81c9a2",
   "metadata": {},
   "source": [
    "sbn.boxplot(\n",
    "    data=usage.groupby(['server', 'month', 'thread_id']).input_tokens.count().reset_index(),\n",
    "    x='month',\n",
    "    y='input_tokens',\n",
    "    hue='server'\n",
    ")\n",
    "plt.title('Conversation lengths across servers')\n",
    "plt.xlabel('Period')\n",
    "plt.ylabel('Conversation length (messages)')\n",
    "plt.ylim([0, 100])"
   ],
   "outputs": [],
   "execution_count": null
  },
  {
   "cell_type": "markdown",
   "id": "e372c16d",
   "metadata": {},
   "source": [
    "### Cost per conversation per month"
   ]
  },
  {
   "cell_type": "code",
   "id": "2f7ae2d4",
   "metadata": {},
   "source": [
    "sbn.boxplot(\n",
    "    data=usage.groupby(['server', 'month', 'thread_id']).cost.sum().reset_index(), \n",
    "    x='month', y='cost', hue='server'\n",
    ")\n",
    "plt.ylabel('Coversation cost')\n",
    "plt.xlabel('Month')\n",
    "plt.legend(title='Server')\n",
    "plt.ylim([0, 10])"
   ],
   "outputs": [],
   "execution_count": null
  },
  {
   "cell_type": "code",
   "id": "6f4421cc",
   "metadata": {},
   "source": [
    "sbn.barplot(data=usage.groupby('period').cost.sum().reset_index(), x='month', y='cost')\n",
    "plt.ylabel('Monthly cost')\n",
    "plt.xlabel('Month')"
   ],
   "outputs": [],
   "execution_count": null
  },
  {
   "cell_type": "markdown",
   "id": "129defc2",
   "metadata": {},
   "source": [
    "### Rubber duck hourly pay-rate"
   ]
  },
  {
   "cell_type": "markdown",
   "id": "ff11a4b5",
   "metadata": {},
   "source": [
    "Assume 60 words/minute (typical conversation is closer to 120, but this is technical material being discussed)."
   ]
  },
  {
   "cell_type": "code",
   "id": "9a6636a0",
   "metadata": {},
   "source": [
    "word_rate = 60 # w/min"
   ],
   "outputs": [],
   "execution_count": null
  },
  {
   "cell_type": "code",
   "id": "d8ba4321",
   "metadata": {},
   "source": [
    "user_minutes = usage.groupby(['server', 'period', 'thread_id']).input_tokens.max() / word_rate\n",
    "bot_minutes = usage.groupby(['server', 'period', 'thread_id']).output_tokens.sum() / word_rate\n",
    "convo_minutes = (user_minutes + bot_minutes) # .reset_index().rename({0: 'minutes'}, axis=1)\n",
    "total_hours = convo_minutes.sum() / 60\n",
    "total_cost = usage.cost.sum()\n",
    "duck_rate = total_cost / total_hours"
   ],
   "outputs": [],
   "execution_count": null
  },
  {
   "cell_type": "code",
   "id": "9890026c",
   "metadata": {},
   "source": [
    "total_hours, total_cost, duck_rate"
   ],
   "outputs": [],
   "execution_count": null
  },
  {
   "cell_type": "markdown",
   "id": "b7f993d7",
   "metadata": {},
   "source": [
    "Now assume that we pay the duck for 24 hours a day to sit around and answer questions..."
   ]
  },
  {
   "cell_type": "code",
   "id": "5d43a047",
   "metadata": {},
   "source": [
    "usage.cost.sum() / usage.timestamp.dt.day_of_year.nunique() / 24"
   ],
   "outputs": [],
   "execution_count": null
  },
  {
   "cell_type": "markdown",
   "id": "0cb416ec",
   "metadata": {},
   "source": [
    "### How many conversations per user per month"
   ]
  },
  {
   "cell_type": "code",
   "id": "8a9a5217",
   "metadata": {},
   "source": [
    "sbn.histplot(\n",
    "    data=usage.groupby(['server', 'user_id']).thread_id.nunique().reset_index(),\n",
    "    x='thread_id',\n",
    "    hue='server',\n",
    "    multiple='dodge',\n",
    "    bins=range(1, 15)\n",
    ")\n",
    "plt.xlabel('# of conversations')\n",
    "plt.ylabel('# of users')"
   ],
   "outputs": [],
   "execution_count": null
  },
  {
   "cell_type": "markdown",
   "id": "736189a0",
   "metadata": {},
   "source": [
    "### How many \"long\" conversations?"
   ]
  },
  {
   "cell_type": "code",
   "id": "5b1963ee",
   "metadata": {},
   "source": [
    "usage.groupby('thread_id').user_id.count().hist(bins=30)"
   ],
   "outputs": [],
   "execution_count": null
  },
  {
   "cell_type": "code",
   "id": "81a61d98",
   "metadata": {},
   "source": [
    "usage.groupby('thread_id').user_id.count().gt(30).sum()"
   ],
   "outputs": [],
   "execution_count": null
  },
  {
   "cell_type": "code",
   "id": "fc194025",
   "metadata": {},
   "source": [
    "usage.groupby('thread_id').cost.sum().groupby(usage.groupby('thread_id').user_id.count().gt(30)).sum()"
   ],
   "outputs": [],
   "execution_count": null
  },
  {
   "cell_type": "markdown",
   "id": "96b1037e",
   "metadata": {},
   "source": [
    "**More than half the cost comes from \"long\" conversations!**"
   ]
  },
  {
   "cell_type": "code",
   "id": "ac83d5e4",
   "metadata": {},
   "source": [
    "usage.groupby('thread_id').cost.sum().groupby(usage.groupby('thread_id').user_id.count().gt(35)).sum()"
   ],
   "outputs": [],
   "execution_count": null
  },
  {
   "cell_type": "code",
   "id": "4c04c58b",
   "metadata": {},
   "source": [],
   "outputs": [],
   "execution_count": null
  }
 ],
 "metadata": {
  "kernelspec": {
   "display_name": "Python 3 (ipykernel)",
   "language": "python",
   "name": "python3"
  },
  "language_info": {
   "codemirror_mode": {
    "name": "ipython",
    "version": 3
   },
   "file_extension": ".py",
   "mimetype": "text/x-python",
   "name": "python",
   "nbconvert_exporter": "python",
   "pygments_lexer": "ipython3",
   "version": "3.11.0"
  },
  "toc": {
   "base_numbering": 1,
   "nav_menu": {},
   "number_sections": false,
   "sideBar": true,
   "skip_h1_title": true,
   "title_cell": "Table of Contents",
   "title_sidebar": "Contents",
   "toc_cell": false,
   "toc_position": {
    "height": "calc(100% - 180px)",
    "left": "10px",
    "top": "150px",
    "width": "384px"
   },
   "toc_section_display": true,
   "toc_window_display": true
  }
 },
 "nbformat": 4,
 "nbformat_minor": 5
}
