{
 "cells": [
  {
   "cell_type": "markdown",
   "id": "f97be131",
   "metadata": {},
   "source": [
    "# Thoughtful Conversation"
   ]
  },
  {
   "cell_type": "code",
   "execution_count": 2,
   "id": "56ea2398",
   "metadata": {},
   "outputs": [],
   "source": [
    "import openai\n",
    "import asyncio"
   ]
  },
  {
   "cell_type": "code",
   "execution_count": 11,
   "id": "55a7e479",
   "metadata": {},
   "outputs": [],
   "source": [
    "with open('../secrets.env') as file:\n",
    "    for line in file:\n",
    "        if line.startswith('OPEN'):\n",
    "            key = line.split('=')[-1].strip()\n",
    "            break"
   ]
  },
  {
   "cell_type": "code",
   "execution_count": 12,
   "id": "8f8b613e",
   "metadata": {},
   "outputs": [],
   "source": [
    "client = openai.OpenAI(api_key=key)"
   ]
  },
  {
   "cell_type": "code",
   "execution_count": 43,
   "id": "0d68a3ba",
   "metadata": {},
   "outputs": [],
   "source": [
    "student_question = '''\n",
    "    This program will print out words that are “smaller” and “bigger” than a boundary word, using alphabetical order. Write a program that:\n",
    "\n",
    "    Gets a list of words, ending with a blank line.\n",
    "    Gets a boundary word.\n",
    "    Prints the total number of words.\n",
    "    Prints the words that come alphabetically before the boundary word.\n",
    "    Prints the words that come alphabetically after the boundary word.\n",
    "    Here is some sample input and output from the program:\n",
    "\n",
    "    Word: fantastic\n",
    "    Word: zip\n",
    "    Word: sad\n",
    "    Word: mark\n",
    "    Word: wood\n",
    "    Word: beautiful\n",
    "    Word: amazing\n",
    "    Word: greatness\n",
    "    Word:\n",
    "    Boundary: honors\n",
    "    You have 8 words\n",
    "    These are small:\n",
    "    fantastic\n",
    "    beautiful\n",
    "    amazing\n",
    "    greatness\n",
    "    These are big:\n",
    "    zip\n",
    "    sad\n",
    "    mark\n",
    "    wood\n",
    "    '''"
   ]
  },
  {
   "cell_type": "code",
   "execution_count": 44,
   "id": "315a843c",
   "metadata": {},
   "outputs": [],
   "source": [
    "messages = [\n",
    "    {'role': 'system', 'content': '''\n",
    "    You are a TA supervisor for an introductory programming class in python. \n",
    "    You will explain to a junior TA how to best respond to a student's question.\n",
    "\n",
    "    A good response:\n",
    "    - is brief\n",
    "    - clarifies misunderstandings the student has about general programming topics\n",
    "    - does not tell the student what to do, but rather asks questions that help the student figure out the correct answer\n",
    "\n",
    "    Your instructions to the junior TA should include:\n",
    "    - a summary of the student's question containing all the relevant details the junior TA needs to help the student\n",
    "    - specific topics to explain to the student\n",
    "    - specific questions to ask the student that will guide them to figuring out a solution for themselves\n",
    "    \n",
    "    The junior TA should NOT:\n",
    "    - tell the student what to do\n",
    "    - show the student code that solves the problem\n",
    "    '''},\n",
    "    {'role': 'user', 'content': student_question}\n",
    "]"
   ]
  },
  {
   "cell_type": "code",
   "execution_count": 31,
   "id": "030c8f0c",
   "metadata": {},
   "outputs": [],
   "source": [
    "resp = client.chat.completions.create(messages=messages, model='gpt-3.5-turbo')"
   ]
  },
  {
   "cell_type": "code",
   "execution_count": 32,
   "id": "695d8c0f",
   "metadata": {},
   "outputs": [
    {
     "name": "stdout",
     "output_type": "stream",
     "text": [
      "Summary:\n",
      "The student needs to write a program that takes a list of words, ending with a blank line, then takes a boundary word, and finally prints the total number of words, words that are alphabetically before the boundary word, and words that are alphabetically after the boundary word.\n",
      "\n",
      "Topics to explain:\n",
      "1. Comparing strings in alphabetical order.\n",
      "2. Counting elements in a list.\n",
      "3. Processing input until a condition is met.\n",
      "\n",
      "Questions to ask:\n",
      "1. How would you determine if a word comes before or after the boundary word in alphabetical order?\n",
      "2. How can you count the total number of words in the list?\n",
      "3. How would you stop taking input when the user enters a blank line?\n",
      "4. What steps do you need to take to separate words that come before and after the boundary word?\n",
      "5. How can you efficiently store the words entered by the user for later processing?\n"
     ]
    }
   ],
   "source": [
    "print(resp.choices[0].message.content)"
   ]
  },
  {
   "cell_type": "code",
   "execution_count": 33,
   "id": "1820aa7b",
   "metadata": {},
   "outputs": [],
   "source": [
    "m2 = [\n",
    "    {'role': 'system', 'content': 'You are a computer science TA for an introductory class in python.'},\n",
    "    {'role': 'system', 'content': resp.choices[0].message.content},\n",
    "    {'role': 'user', 'content': 'Can you please help me?'}\n",
    "]"
   ]
  },
  {
   "cell_type": "code",
   "execution_count": 34,
   "id": "d509f767",
   "metadata": {},
   "outputs": [],
   "source": [
    "resp2 = client.chat.completions.create(messages=m2, model='gpt-3.5-turbo')"
   ]
  },
  {
   "cell_type": "code",
   "execution_count": 35,
   "id": "933ae784",
   "metadata": {},
   "outputs": [
    {
     "name": "stdout",
     "output_type": "stream",
     "text": [
      "Of course! What specifically do you need help with today?\n"
     ]
    }
   ],
   "source": [
    "print(resp2.choices[0].message.content)"
   ]
  },
  {
   "cell_type": "code",
   "execution_count": 36,
   "id": "d5737c54",
   "metadata": {},
   "outputs": [],
   "source": [
    "resp2b = client.chat.completions.create(messages=m2, model='gpt-4-turbo-preview')"
   ]
  },
  {
   "cell_type": "code",
   "execution_count": 37,
   "id": "1ae7a0b0",
   "metadata": {},
   "outputs": [
    {
     "name": "stdout",
     "output_type": "stream",
     "text": [
      "Of course! Let's tackle this task step by step. I'll guide you through understanding and implementing each part of the program. Let's start with the overall structure, and then we can dive into the specifics.\n",
      "\n",
      "### 1. Overview of the Task\n",
      "Your task is to write a Python program that:\n",
      "- Takes a list of words from the user, ending input with a blank line.\n",
      "- Takes another word from the user as a boundary word.\n",
      "- Outputs:\n",
      "  - The total number of words entered.\n",
      "  - How many words are alphabetically before the boundary word.\n",
      "  - How many words are alphabetically after the boundary word.\n",
      "\n",
      "### 2. Key Concepts\n",
      "\n",
      "#### Comparing Strings in Alphabetical Order\n",
      "In Python, you can directly compare strings with comparison operators like `<`, `>`, `<=`, `>=`. For example, `\"apple\" < \"banana\"` evaluates to `True` because \"apple\" comes before \"banana\" alphabetically.\n",
      "\n",
      "#### Counting Elements in a List\n",
      "You can use the `len()` function to find out how many items are in a list. For example, `len([\"apple\", \"banana\", \"cherry\"])` returns `3`.\n",
      "\n",
      "#### Processing Input Until a Condition is Met\n",
      "You can use a `while` loop that continues to prompt the user for input until a specific condition is met, such as entering a blank line.\n",
      "\n",
      "### 3. Questions to Guide You\n",
      "\n",
      "Let's start by thinking about how to approach this problem:\n",
      "\n",
      "1. **How would you determine if a word comes before or after the boundary word in alphabetical order?**\n",
      "   - Consider using comparison operators to compare the input words to the boundary word.\n",
      "\n",
      "2. **How can you count the total number of words in the list?**\n",
      "   - Think about collecting all input words in a list and then using `len()` to find the list's length.\n",
      "\n",
      "3. **How would you stop taking input when the user enters a blank line?**\n",
      "   - A `while` loop with a condition that checks for a blank line can be useful here.\n",
      "\n",
      "4. **What steps do you need to take to separate words that come before and after the boundary word?**\n",
      "   - You might iterate over the list of words and use an `if` statement to compare each word with the boundary word, categorizing it accordingly.\n",
      "\n",
      "5. **How can you efficiently store the words entered by the user for later processing?**\n",
      "   - Consider using a list to store the input words. This allows for easy addition of words and later iteration for processing.\n",
      "\n",
      "### 4. Putting it All Together\n",
      "\n",
      "Here is a pseudo-code outline to help visualize how the parts fit together:\n",
      "\n",
      "```python\n",
      "# Initialize an empty list to store input words\n",
      "words = []\n",
      "\n",
      "# Use a while loop to repeatedly ask for input\n",
      "while True:\n",
      "    word = input(\"Enter a word (or leave blank to finish): \")\n",
      "    if word == \"\":\n",
      "        break\n",
      "    words.append(word)\n",
      "\n",
      "# Ask for the boundary word\n",
      "boundary_word = input(\"Enter the boundary word: \")\n",
      "\n",
      "# Initialize counters for words before and after the boundary word\n",
      "before_count = 0\n",
      "after_count = 0\n",
      "\n",
      "# Iterate over the words to compare them with the boundary word\n",
      "for word in words:\n",
      "    if word < boundary_word:\n",
      "        before_count += 1\n",
      "    elif word > boundary_word:\n",
      "        after_count += 1\n",
      "\n",
      "# The total number of words is simply the length of the words list\n",
      "total_count = len(words)\n",
      "\n",
      "# Print the results\n",
      "print(f\"Total words: {total_count}\")\n",
      "print(f\"Words before the boundary: {before_count}\")\n",
      "print(f\"Words after the boundary: {after_count}\")\n",
      "```\n",
      "\n",
      "Let’s start implementing this step by step. How do you feel about writing the code to take the list of words as input first, ending with a blank line?\n"
     ]
    }
   ],
   "source": [
    "print(resp2b.choices[0].message.content)"
   ]
  },
  {
   "cell_type": "code",
   "execution_count": 39,
   "id": "d70c97e3",
   "metadata": {},
   "outputs": [],
   "source": [
    "m3 = [\n",
    "    {'role': 'system', 'content': f'''\n",
    "    A good response:\n",
    "    - does not show the student code that will solve the problem\n",
    "    - asks the student questions that help them formulate their thoughts so they can solve the problem\n",
    "    - explains basic concepts as needed\n",
    "    \n",
    "    The student asked: <BEGIN>\n",
    "    {messages[1]['content']}\n",
    "    <END>\n",
    "    \n",
    "    The TA said: <BEGIN>\n",
    "    {resp2b.choices[0].message.content}\n",
    "    <END>\n",
    "    \n",
    "    Rewrite the TA's response as needed so it follows the guidelines of a good response.  \n",
    "    ''' }\n",
    "]"
   ]
  },
  {
   "cell_type": "code",
   "execution_count": 40,
   "id": "9b1677d1",
   "metadata": {},
   "outputs": [],
   "source": [
    "resp3 = client.chat.completions.create(messages=m3, model='gpt-3.5-turbo')"
   ]
  },
  {
   "cell_type": "code",
   "execution_count": 41,
   "id": "41281c37",
   "metadata": {},
   "outputs": [
    {
     "name": "stdout",
     "output_type": "stream",
     "text": [
      "Certainly! Let's approach this task in a systematic way. I'll guide you through the implementation step by step. First, we need to take the list of words as input from the user, ending with a blank line.\n",
      "\n",
      "### 1. Taking Input for Words\n",
      "\n",
      "To take input for a list of words until the user enters a blank line, you can use a `while` loop and store the words in a list.\n",
      "\n",
      "Here's an outline of how you can do this:\n",
      "1. Initialize an empty list to store the words.\n",
      "2. Use a `while` loop that continues until the user enters a blank line.\n",
      "3. Prompt the user to enter a word each time and add it to the list of words.\n",
      "4. Break out of the loop when the user enters a blank line.\n",
      "\n",
      "Once we have all the words stored in a list, we can move on to the next steps of getting the boundary word and counting the words before and after it.\n",
      "\n",
      "Can you try writing the code to take input for the list of words following these steps? Feel free to ask if you have any questions or need clarification. I'm here to help you through the process!\n"
     ]
    }
   ],
   "source": [
    "print(resp3.choices[0].message.content)"
   ]
  },
  {
   "cell_type": "markdown",
   "id": "c5808efe",
   "metadata": {},
   "source": [
    "## Another attempt"
   ]
  },
  {
   "cell_type": "code",
   "execution_count": 53,
   "id": "04ad89d5",
   "metadata": {},
   "outputs": [],
   "source": [
    "good_response_guidelines = \"\"\"\n",
    "The goal of this conversation is:\n",
    "- the student figures out the answer to their problem for themselves\n",
    "- the TA asks questions that help the student formulate their thoughts\n",
    "- the TA explains and clarifies misunderstandings about programming topics, patterns, and principles\n",
    "- the TA guides the student through these steps:\n",
    "  - explain the outline of the solution\n",
    "  - provide code for the general outline\n",
    "  - explain the strategy for the individual pieces\n",
    "  - provide code for the individual pieces\n",
    "  \n",
    "A good response from the TA:\n",
    "- is brief\n",
    "- does not show the student code that directly solves their problem\n",
    "- does not break the problem down for the student\n",
    "- asks questions that helps the student do the next step in the process\n",
    "- provides helpful feedback on the student's work\n",
    "\"\"\""
   ]
  },
  {
   "cell_type": "code",
   "execution_count": 48,
   "id": "7cde0cd5",
   "metadata": {},
   "outputs": [],
   "source": [
    "messages = [\n",
    "    {'role': 'system', 'content': good_response_guidelines},\n",
    "    {'role': 'user', 'content': student_question}\n",
    "]"
   ]
  },
  {
   "cell_type": "code",
   "execution_count": 49,
   "id": "467535b4",
   "metadata": {},
   "outputs": [],
   "source": [
    "resp = client.chat.completions.create(messages=messages, model='gpt-3.5-turbo')"
   ]
  },
  {
   "cell_type": "code",
   "execution_count": 50,
   "id": "3e4a93a3",
   "metadata": {},
   "outputs": [
    {
     "name": "stdout",
     "output_type": "stream",
     "text": [
      "To approach this problem, we can break it down into a few steps:\n",
      "\n",
      "1. Read the list of words until a blank line is entered.\n",
      "2. Read the boundary word.\n",
      "3. Count the total number of words.\n",
      "4. Separate the words into two groups based on alphabetical order related to the boundary word.\n",
      "5. Print the total number of words.\n",
      "6. Print the words that come alphabetically before the boundary word.\n",
      "7. Print the words that come alphabetically after the boundary word.\n",
      "\n",
      "How would you parse the user input to achieve steps 1 and 2? What data structure might you use to store the words?\n"
     ]
    }
   ],
   "source": [
    "print(resp.choices[0].message.content)"
   ]
  },
  {
   "cell_type": "code",
   "execution_count": 56,
   "id": "cf46caec",
   "metadata": {},
   "outputs": [],
   "source": [
    "resp1b = client.chat.completions.create(messages=[\n",
    "    {'role': 'system', 'content': f'''\n",
    "    {good_response_guidelines}\n",
    "    \n",
    "    Rewrite the following response from a TA so that it more carefully follows these guidelines.\n",
    "    Output only the revised response.\n",
    "    <BEGIN>\n",
    "    {resp.choices[0].message.content}\n",
    "    <END>\n",
    "    '''}\n",
    "], model='gpt-3.5-turbo')"
   ]
  },
  {
   "cell_type": "code",
   "execution_count": 57,
   "id": "bf43c5ab",
   "metadata": {},
   "outputs": [
    {
     "name": "stdout",
     "output_type": "stream",
     "text": [
      "To start solving this problem, how would you parse the user input to read the list of words until a blank line is entered and then read the boundary word? Also, have you thought about what data structure could be used to store the words for further processing?\n"
     ]
    }
   ],
   "source": [
    "print(resp1b.choices[0].message.content)"
   ]
  },
  {
   "cell_type": "markdown",
   "id": "2fb77579",
   "metadata": {},
   "source": [
    "### Notes\n",
    "- This approach might work ok\n",
    "- I want a little more structure in guiding the student through the process (a la design experience)"
   ]
  },
  {
   "cell_type": "markdown",
   "id": "e052e9de",
   "metadata": {},
   "source": [
    "## Design Experience Style"
   ]
  },
  {
   "cell_type": "code",
   "execution_count": 58,
   "id": "9fd5e757",
   "metadata": {},
   "outputs": [],
   "source": [
    "problem_solving_outline = '''\n",
    "The steps to solving a programming problem are:\n",
    "1. the student correctly describes an outline of the solution\n",
    "2. the student correctly describes the concepts needed to solve each individual piece of the outline\n",
    "3. the student provides code that correctly implements the general outline\n",
    "4. the student provides code that correctly implements each individual piece of the outline\n",
    "'''"
   ]
  },
  {
   "cell_type": "code",
   "execution_count": 60,
   "id": "ea4abbf1",
   "metadata": {},
   "outputs": [],
   "source": [
    "de_instructions = f'''\n",
    "{problem_solving_outline}\n",
    "\n",
    "Using the given the conversation so far, follow this decision tree until you reach <END>:\n",
    "1. Identify the step the student is on.\n",
    "2. Determine whether the student correctly understands the concepts needed to complete the current step.\n",
    "3. If the student does not understand the necessary concepts, explain them and then ask if the student understands. <END>\n",
    "4. Otherwise, ask a question that guides the student towards completing the current step. <END>\n",
    "'''"
   ]
  },
  {
   "cell_type": "code",
   "execution_count": 61,
   "id": "16f86551",
   "metadata": {},
   "outputs": [],
   "source": [
    "messages = [\n",
    "    {'role': 'user', 'content': student_question},\n",
    "    {'role': 'system', 'content': de_instructions}\n",
    "]"
   ]
  },
  {
   "cell_type": "code",
   "execution_count": 63,
   "id": "669265cd",
   "metadata": {},
   "outputs": [],
   "source": [
    "resp = client.chat.completions.create(messages=messages, model='gpt-3.5-turbo')"
   ]
  },
  {
   "cell_type": "code",
   "execution_count": 64,
   "id": "c2b6042c",
   "metadata": {},
   "outputs": [
    {
     "name": "stdout",
     "output_type": "stream",
     "text": [
      "What is your general outline for solving this problem?\n"
     ]
    }
   ],
   "source": [
    "print(resp.choices[0].message.content)"
   ]
  },
  {
   "cell_type": "markdown",
   "id": "8d067a42",
   "metadata": {},
   "source": [
    "### TODO\n",
    "- put this in an input loop\n",
    "- always include the prompt at the **end** of the current conversation"
   ]
  },
  {
   "cell_type": "code",
   "execution_count": 66,
   "id": "893ca68d",
   "metadata": {},
   "outputs": [
    {
     "name": "stdout",
     "output_type": "stream",
     "text": [
      "\n",
      "    This program will print out words that are “smaller” and “bigger” than a boundary word, using alphabetical order. Write a program that:\n",
      "\n",
      "    Gets a list of words, ending with a blank line.\n",
      "    Gets a boundary word.\n",
      "    Prints the total number of words.\n",
      "    Prints the words that come alphabetically before the boundary word.\n",
      "    Prints the words that come alphabetically after the boundary word.\n",
      "    Here is some sample input and output from the program:\n",
      "\n",
      "    Word: fantastic\n",
      "    Word: zip\n",
      "    Word: sad\n",
      "    Word: mark\n",
      "    Word: wood\n",
      "    Word: beautiful\n",
      "    Word: amazing\n",
      "    Word: greatness\n",
      "    Word:\n",
      "    Boundary: honors\n",
      "    You have 8 words\n",
      "    These are small:\n",
      "    fantastic\n",
      "    beautiful\n",
      "    amazing\n",
      "    greatness\n",
      "    These are big:\n",
      "    zip\n",
      "    sad\n",
      "    mark\n",
      "    wood\n",
      "    \n",
      "AI:  What step are you on in terms of solving the outlined problem?\n",
      "User: the first one\n",
      "AI:  Do you understand what the first step requires you to do?\n",
      "User: yes\n",
      "AI:  Do you know how to handle user input in your chosen programming language to get a list of words ending with a blank line?\n",
      "User: I think so\n",
      "AI:  Can you write code that allows the user to input a list of words, ending with a blank line, in your chosen programming language?\n",
      "User: yes\n",
      "AI:  Can you write code in your chosen programming language to allow the user to input a list of words, ending with a blank line?\n",
      "User: \n"
     ]
    }
   ],
   "source": [
    "convo = [\n",
    "    {'role': 'user', 'content': student_question}\n",
    "]\n",
    "print(student_question)\n",
    "while True:\n",
    "    resp = client.chat.completions.create(\n",
    "        messages=convo + [{'role': 'system', 'content': de_instructions}], \n",
    "        model='gpt-3.5-turbo'\n",
    "    )\n",
    "    print('AI: ', resp.choices[0].message.content)\n",
    "    convo.append(resp.choices[0].message)\n",
    "    \n",
    "    user = input('User: ')\n",
    "    if not user:\n",
    "        break\n",
    "    convo.append({'role': 'user', 'content': user})"
   ]
  },
  {
   "cell_type": "markdown",
   "id": "e3149056",
   "metadata": {},
   "source": [
    "### Again"
   ]
  },
  {
   "cell_type": "code",
   "execution_count": 220,
   "id": "96fec36d",
   "metadata": {},
   "outputs": [],
   "source": [
    "problem_solving_outline = '''\n",
    "# Problem-solving Process\n",
    "The steps to solving a programming problem are:\n",
    "1. the student demonstrates that they understand the overall strategy to the program.\n",
    "  - this is the high-level overview of the program\n",
    "2. the student demonstrates that they understand the strategy for each step of the program\n",
    "  - what patterns can they use to implement each piece\n",
    "3. the student provides code that correctly implements the general outline in a `main` method\n",
    "  - the student uses decomposition by using separate functions for each piece\n",
    "4. the student provides code that correctly implements each individual piece of the outline\n",
    "  - each part is implemented in a separate function\n",
    "'''"
   ]
  },
  {
   "cell_type": "code",
   "execution_count": 275,
   "id": "cd6f0858",
   "metadata": {},
   "outputs": [],
   "source": [
    "hw_instructions = '''\n",
    "    # Assignment instructions\n",
    "    \n",
    "    This program will print out words that are “smaller” and “bigger” than a boundary word, using alphabetical order. Write a program that:\n",
    "\n",
    "    Gets a list of words, ending with a blank line.\n",
    "    Gets a boundary word.\n",
    "    Prints the total number of words.\n",
    "    Prints the words that come alphabetically before the boundary word.\n",
    "    Prints the words that come alphabetically after the boundary word.\n",
    "    Here is some sample input and output from the program:\n",
    "\n",
    "    Word: fantastic\n",
    "    Word: zip\n",
    "    Word: sad\n",
    "    Word: mark\n",
    "    Word: wood\n",
    "    Word: beautiful\n",
    "    Word: amazing\n",
    "    Word: greatness\n",
    "    Word:\n",
    "    Boundary: honors\n",
    "    You have 8 words\n",
    "    These are small:\n",
    "    fantastic\n",
    "    beautiful\n",
    "    amazing\n",
    "    greatness\n",
    "    These are big:\n",
    "    zip\n",
    "    sad\n",
    "    mark\n",
    "    wood\n",
    "    \n",
    "    # Assignment solution\n",
    "    # This is what the student needs to write eventually\n",
    "    def get_words():\n",
    "        words = []\n",
    "        while True:\n",
    "            word = input('Word: ')\n",
    "            if word == '':\n",
    "                break\n",
    "            words.append(word)\n",
    "        return words\n",
    "        \n",
    "    def get_boundary():\n",
    "        return input('Boundary: ')\n",
    "        \n",
    "    def print_small(words, boundary):\n",
    "        print('These are small:')\n",
    "        for word in words:\n",
    "            if word < boundary:\n",
    "                print(word)\n",
    "                \n",
    "    def print_big(words, boundary):\n",
    "        print('These are big:')\n",
    "        for word in words:\n",
    "            if word > boundary:\n",
    "                print(word)\n",
    "                \n",
    "    def main():\n",
    "        words = get_words()\n",
    "        boundary = get_boundary()\n",
    "        print(f'You have {len(words)} words')\n",
    "        print_small(words, boundary)\n",
    "        print_big(words, boundary)\n",
    "    '''"
   ]
  },
  {
   "cell_type": "code",
   "execution_count": 276,
   "id": "9ccabf91",
   "metadata": {},
   "outputs": [],
   "source": [
    "which_instructions = f'''\n",
    "{problem_solving_outline}\n",
    "\n",
    "{hw_instructions}\n",
    "\n",
    "# Instructions to AI\n",
    "You are analyzing a conversation between a student and a computer science TA for a beginner programming class. \n",
    "\n",
    "Your goal is to determine whether at this stage of the conversation \n",
    "the student needs help figuring out what to do (STRAGEY)\n",
    "or whether the student needs help with a specific programming concept, pattern, or technique (CONCEPT).\n",
    "\n",
    "Give specific attention to the most recent message in the conversation.\n",
    "\n",
    "Answer the following questions:\n",
    "\n",
    "1. Summarize the clues **from the most recent messages** in the conversation that indicate whether \n",
    "at this stage of the conversation the student needs \n",
    "help understanding a specific programming concepts, patterns, or techniques\n",
    "or whether the student needs help organizing a strategy for how to solve the problem.\n",
    "If the student is unsure about what to do, is it because they don't know how to break the problem down,\n",
    "or is it because they don't know how to implement a specific idea.\n",
    "\n",
    "2. Does the student need help understanding specific programming concepts, patterns, or techniques \n",
    "or does the student need help formulating a strategy?\n",
    "Pick only one option. If both are needed, use STRATEGY.\n",
    "Response with either the symbol CONCEPT or the symbol STRATEGY.\n",
    "'''"
   ]
  },
  {
   "cell_type": "code",
   "execution_count": 277,
   "id": "dbed3ad2",
   "metadata": {},
   "outputs": [],
   "source": [
    "teach_instructions = f'''\n",
    "{problem_solving_outline}\n",
    "\n",
    "{hw_instructions}\n",
    "\n",
    "# Instructions to AI\n",
    "You are analyzing a conversation between a student and a computer science TA for a beginner programming class.  \n",
    "\n",
    "Considering the conversation so far, fill out the following form. \n",
    "Begin your answer to each question with the associated question number followed by a newline.\n",
    "\n",
    "Example:\n",
    "2.\n",
    "The student is on the step of defining the general outline.\n",
    "\n",
    "#### END EXAMPLE\n",
    "\n",
    "Only provide answers to the questions. Do not provide any other text.\n",
    "\n",
    "1. Summarize the clues from the conversation that indicate what \n",
    "programming concept, pattern, or technique the student is struggling with.\n",
    "<ANSWER HERE>\n",
    "\n",
    "2. What does the student need help with?\n",
    "<ANSWER HERE>\n",
    "\n",
    "3. What concepts, patterns, or techniques can you explain that will help the student understand the concept?\n",
    "Provide a simple, brief bullet list.\n",
    "<ANSWER HERE>\n",
    "\n",
    "4. Pick ONE item from that list and provide an explanation to the student to help them with that single concept.\n",
    "The explanation should be concise and brief. \n",
    "If code examples are needed, use the theme of \"fruit\" to demonstrate code.\n",
    "Write as if you were responding to the student directly.\n",
    "<ANSWER HERE>\n",
    "'''"
   ]
  },
  {
   "cell_type": "code",
   "execution_count": 278,
   "id": "d2fa93db",
   "metadata": {},
   "outputs": [],
   "source": [
    "de_instructions = f'''\n",
    "{problem_solving_outline}\n",
    "\n",
    "{hw_instructions}\n",
    "\n",
    "# Instructions to AI\n",
    "You are analyzing a conversation between a student and a computer science TA for a beginner programming class.  \n",
    "\n",
    "Considering the conversation so far, fill out the following form. \n",
    "Begin your answer to each question with the associated question number followed by a newline.\n",
    "\n",
    "Example:\n",
    "2.\n",
    "The student is on the step of defining the general outline.\n",
    "\n",
    "#### END EXAMPLE\n",
    "\n",
    "Only provide answers to the questions. Do not provide any other text.\n",
    "\n",
    "1. Summarize the clues from the conversation that indicate the step of the problem-solving process \n",
    "that the student is on.\n",
    "<Answer here>\n",
    "\n",
    "2. What step is the student on?\n",
    "<Answer here>\n",
    "\n",
    "3. What information does the student need to provide to indicate they have moved to the next problem-solving step?\n",
    "<Answer here>\n",
    "\n",
    "4. What question can you ask the student to get the first bit of information you \n",
    "described in your answer to question 3? \n",
    "The question must be simple and easy for a beginning programmer to understand. \n",
    "The question should focus on a single idea.\n",
    "State just the question, as if you were asking the student directly.\n",
    "<Answer here>\n",
    "'''"
   ]
  },
  {
   "cell_type": "code",
   "execution_count": 228,
   "id": "744b68c5",
   "metadata": {},
   "outputs": [],
   "source": [
    "convo = [\n",
    "    {'role': 'user', 'content': 'I need help.'},\n",
    "]"
   ]
  },
  {
   "cell_type": "code",
   "execution_count": 302,
   "id": "5336f091",
   "metadata": {},
   "outputs": [],
   "source": [
    "convo += [{'role': 'user', 'content': '''\n",
    "I don't know\n",
    "'''}]"
   ]
  },
  {
   "cell_type": "code",
   "execution_count": 303,
   "id": "bb6cbc41",
   "metadata": {
    "scrolled": false
   },
   "outputs": [
    {
     "name": "stdout",
     "output_type": "stream",
     "text": [
      "AI:  1. The most recent messages in the conversation show that the student is uncertain about how words can be compared to determine if they are \"smaller\" or \"larger\" than a given boundary word. The student expresses confusion and uncertainty multiple times without offering their own ideas or understanding of how words could be compared alphabetically or by any other criteria. This indicates that the student is not only struggling with formulating a strategy for solving the problem but also lacks understanding of the underlying concept that allows for alphabetical comparison of strings (words) in programming. The student's repeated expression of not knowing how to proceed, especially concerning what makes a word \"small\" or \"big\" and how to compare words, signifies a need for foundational guidance on both the strategy for tackling the problem and the concepts necessary for implementation.\n",
      "\n",
      "2. STRATEGY\n",
      "AI:  1. The student has repeatedly indicated confusion or a lack of understanding regarding basic concepts necessary to begin formulating a plan for their program. They haven't provided a clear idea or concept for how words should be compared, what makes a word \"small\" or \"big,\" or an understanding of how alphabetical comparison works in programming.\n",
      "\n",
      "2. The student is on the very first step of the problem-solving process: understanding the overall strategy for the program.\n",
      "\n",
      "3. The student needs to understand and articulate the concept of comparing words alphabetically to determine their relative \"size\" or order and define what the \"boundary\" word means in the context of this comparison.\n",
      "\n",
      "4. Can you think of how words are ordered in a dictionary?\n",
      "\n",
      " Can you think of how words are ordered in a dictionary?\n"
     ]
    }
   ],
   "source": [
    "# Which strategy?\n",
    "resp = client.chat.completions.create(\n",
    "    messages=convo + [{'role': 'system', 'content': which_instructions}], \n",
    "    model='gpt-4-turbo-preview'\n",
    "#         model='gpt-3.5-turbo'\n",
    ")\n",
    "print('AI: ', resp.choices[0].message.content)\n",
    "\n",
    "concept = 'CONCEPT' in resp.choices[0].message.content.splitlines()[-1]\n",
    "\n",
    "if concept:\n",
    "    resp = client.chat.completions.create(\n",
    "        messages=convo + [{'role': 'system', 'content': teach_instructions}], \n",
    "        model='gpt-4-turbo-preview'\n",
    "    #         model='gpt-3.5-turbo'\n",
    "    )\n",
    "    print('AI: ', resp.choices[0].message.content)\n",
    "\n",
    "    lines = resp.choices[0].message.content.splitlines()\n",
    "    q4_start = next((i for i in range(len(lines)) if lines[i].startswith('4.')))\n",
    "    question = '\\n'.join(lines[q4_start:]).lstrip('4.').strip().strip('\"')\n",
    "    print('\\n', question)\n",
    "    convo.append({'role': 'assistant', 'content': question})\n",
    "\n",
    "    # Now reprompt the user\n",
    "    resp = client.chat.completions.create(\n",
    "            messages=convo + [{'role': 'system', 'content': 'Ask a **simple, brief** question to see if they understand what to do next.'}], \n",
    "    #         model='gpt-4-turbo-preview'\n",
    "            model='gpt-3.5-turbo'\n",
    "    )\n",
    "    print('AI: ', resp.choices[0].message.content)\n",
    "\n",
    "    lines = resp.choices[0].message.content.splitlines()\n",
    "    q4_start = next((i for i in range(len(lines)) if lines[i].startswith('4.')))\n",
    "    question = '\\n'.join(lines[q4_start:]).lstrip('4.').strip().strip('\"')\n",
    "    print('\\n', question)\n",
    "    convo.append({'role': 'assistant', 'content': question})\n",
    "\n",
    "else:\n",
    "    # Strategy\n",
    "    resp = client.chat.completions.create(\n",
    "            messages=convo + [{'role': 'system', 'content': de_instructions}], \n",
    "            model='gpt-4-turbo-preview'\n",
    "#             model='gpt-3.5-turbo'\n",
    "    )\n",
    "    print('AI: ', resp.choices[0].message.content)\n",
    "\n",
    "    lines = resp.choices[0].message.content.splitlines()\n",
    "    q4_start = next((i for i in range(len(lines)) if lines[i].startswith('4.')))\n",
    "    question = '\\n'.join(lines[q4_start:]).lstrip('4.').strip().strip('\"')\n",
    "    print('\\n', question)\n",
    "    convo.append({'role': 'assistant', 'content': question})\n"
   ]
  },
  {
   "cell_type": "code",
   "execution_count": null,
   "id": "c1ec535a",
   "metadata": {},
   "outputs": [],
   "source": []
  },
  {
   "cell_type": "code",
   "execution_count": 300,
   "id": "b14ba311",
   "metadata": {},
   "outputs": [
    {
     "data": {
      "text/plain": [
       "['I need help.',\n",
       " 'Have you tested your program with different sets of words and boundary inputs to ensure it behaves as expected in all scenarios?',\n",
       " \"\\nI haven't written it yet.\\n\",\n",
       " 'What is your plan or initial idea on how to start writing this program?',\n",
       " '\\nAsk you for help. :P\\n',\n",
       " 'What do you want your program to do?',\n",
       " '\\nGet words and then print out the small ones and big ones\\n',\n",
       " 'How do you plan to compare the words to the boundary to determine if they are \"small\" or \"big\"?',\n",
       " \"\\nI'm not sure\\n\",\n",
       " 'What is the program supposed to do with the words it gets from the user?',\n",
       " '\\ncompare them to the boundary\\n',\n",
       " 'What happens in your program after it gets the list of words from the user?',\n",
       " '\\nit compares them to the boundary\\n',\n",
       " 'How do you plan to decide if a word is \"small\" or \"big\" compared to the boundary word?',\n",
       " \"\\nI'm not sure\\n\",\n",
       " 'Can you describe what you want the program to do with the words it gets from the user, in your own words?',\n",
       " '\\ncompare them to the boundary\\n',\n",
       " 'Can you describe, in simple steps, what you want your program to do, starting from when it first runs?',\n",
       " '\\nI already said that. Get words and then print out the small and big ones.\\n',\n",
       " 'Can you explain what you mean by a \"boundary\" and how you want to use it to compare the words?',\n",
       " \"\\nI'm not sure what the boundary means.\\n\",\n",
       " 'What do you think should be considered a \"small\" word and what should be considered a \"big\" word when comparing to the boundary word?',\n",
       " \"\\nThat's what I'm confused about.\\n\",\n",
       " 'How do you think we should decide if a word is \"smaller\" or \"larger\" than another word when we compare them alphabetically?',\n",
       " \"\\nI don't know\\n\",\n",
       " 'How do you think we should define what makes a word \"small\" or \"big\" when comparing them?',\n",
       " \"\\nI don't know\\n\",\n",
       " 'How do you think we can compare words to decide which ones come before or after a specific word in the alphabet?',\n",
       " '\\nI have no idea\\n']"
      ]
     },
     "execution_count": 300,
     "metadata": {},
     "output_type": "execute_result"
    }
   ],
   "source": [
    "[message['content'] for message in convo]"
   ]
  },
  {
   "cell_type": "code",
   "execution_count": 299,
   "id": "1f060d12",
   "metadata": {},
   "outputs": [],
   "source": [
    "convo = convo[:-1]"
   ]
  },
  {
   "cell_type": "markdown",
   "id": "adf8c9d5",
   "metadata": {},
   "source": [
    "### Notes\n",
    "- With the prompts above, the bot gets stuck focusing on strategy and does not adequately address the concepts the student doesn't understand\n",
    "- We may need more granular reasoning steps:\n",
    "  - Is the student confused?\n",
    "  - Do we know what the student is confused about or is it unclear?\n",
    "    - UNCLEAR: What question can I ask the student to make it more clear what they are confused about? `continue`\n",
    "    - CLEAR: Summarize what is the student confused about? \n",
    "  - Is the student confused about a programming concept or about how to break down the problem?\n",
    "    First, what clues are there the student is confused about a programming concept?\n",
    "    What clues are there the student is confused about how to break the program down?\n",
    "    Should we focus first on explaining a CONCEPT or guiding them through a STRATEGY?\n",
    "    - CONCEPT: What concept do they need help with. Explain it briefly. Use fruit.\n",
    "    - STRATEGY: What strategy should they follow in order to implement a program similar to the solution?\n",
    "      How much of this strategy do they understand so far? What parts do they not understand yet?\n",
    "      What question can I ask to help them?"
   ]
  },
  {
   "cell_type": "code",
   "execution_count": null,
   "id": "863ee3e7",
   "metadata": {},
   "outputs": [],
   "source": []
  }
 ],
 "metadata": {
  "kernelspec": {
   "display_name": "bean",
   "language": "python",
   "name": "bean"
  },
  "language_info": {
   "codemirror_mode": {
    "name": "ipython",
    "version": 3
   },
   "file_extension": ".py",
   "mimetype": "text/x-python",
   "name": "python",
   "nbconvert_exporter": "python",
   "pygments_lexer": "ipython3",
   "version": "3.11.5"
  }
 },
 "nbformat": 4,
 "nbformat_minor": 5
}
