{
 "cells": [
  {
   "cell_type": "code",
   "execution_count": 1,
   "metadata": {},
   "outputs": [],
   "source": [
    "from openai import OpenAI\n",
    "import pandas as pd\n",
    "import numpy as np\n",
    "import yaml\n",
    "import os"
   ]
  },
  {
   "cell_type": "markdown",
   "metadata": {},
   "source": [
    "Localize conversations using the pandas.DataFrame query"
   ]
  },
  {
   "cell_type": "code",
   "execution_count": 2,
   "metadata": {},
   "outputs": [],
   "source": [
    "df = pd.read_csv('messages.csv')\n",
    "thread_ids = set(df['thread_id'])"
   ]
  },
  {
   "cell_type": "code",
   "execution_count": 3,
   "metadata": {},
   "outputs": [],
   "source": [
    "conversations = {}\n",
    "key = 'convo_'\n",
    "for num, id in enumerate(thread_ids):\n",
    "    convo_key= key + str(num+1)\n",
    "    convo = df.query(f'thread_id == {id}')\n",
    "\n",
    "    conversations[convo_key] = [{role:msg} for role, msg in zip(convo['role'], convo['message'])]\n"
   ]
  },
  {
   "cell_type": "code",
   "execution_count": 4,
   "metadata": {},
   "outputs": [],
   "source": [
    "with open('conversations.yaml', 'w') as f:\n",
    "    yaml.safe_dump(conversations, f, indent=4, width=4)"
   ]
  },
  {
   "cell_type": "markdown",
   "metadata": {},
   "source": [
    "# Instructions (Build suites)\n",
    "1. Look through the `conversations.yaml` file for specific conversations that fit the suite\n",
    "2. Create a `conversations.yaml` file in the respective suite. (ie. this should be the file path suites/loop/convesations.yaml)\n",
    "3. Create a `good` and `bad` key in the file created above.\n",
    "4. Copy the whole conversation into the respective key, either `good` or `bad`\n",
    "    - Make sure to reindex the conversation. (ie. convo_0, convo_1, ...)\n",
    "    - Remove any system instructions\n",
    "5. Run the code below to build the suites"
   ]
  },
  {
   "cell_type": "markdown",
   "metadata": {},
   "source": [
    "# Getting simple stats on conversations"
   ]
  },
  {
   "cell_type": "code",
   "execution_count": 5,
   "metadata": {},
   "outputs": [],
   "source": [
    "with open('suites/loops/good.yaml') as f:\n",
    "    good = yaml.safe_load(f)\n",
    "with open('suites/loops/bad.yaml') as f:\n",
    "    bad = yaml.safe_load(f)\n",
    "\n",
    "suite = [good, bad]"
   ]
  },
  {
   "cell_type": "code",
   "execution_count": 6,
   "metadata": {},
   "outputs": [
    {
     "data": {
      "text/plain": [
       "{'user': 'How do I use lists in C++'}"
      ]
     },
     "execution_count": 6,
     "metadata": {},
     "output_type": "execute_result"
    }
   ],
   "source": [
    "bad['convo_0'][0]"
   ]
  },
  {
   "cell_type": "code",
   "execution_count": 7,
   "metadata": {},
   "outputs": [
    {
     "name": "stdout",
     "output_type": "stream",
     "text": [
      "average size convo: 28.00\n",
      "average size convo: 51.50\n"
     ]
    }
   ],
   "source": [
    "for metric in suite:\n",
    "    total_size = 0\n",
    "    for convo in metric:\n",
    "        if 'embeddings' in convo: continue\n",
    "        if convo == 'foo': continue\n",
    "        total_size += len(metric[convo])\n",
    "    print(f'average size convo: {total_size/10:.2f}')"
   ]
  },
  {
   "cell_type": "code",
   "execution_count": 9,
   "metadata": {},
   "outputs": [],
   "source": [
    "# [print(content.items()) for content in suite['good']['convo_0']]\n",
    "None"
   ]
  },
  {
   "cell_type": "code",
   "execution_count": 10,
   "metadata": {},
   "outputs": [],
   "source": [
    "def load_env() -> None:\n",
    "    with open('secrets.env') as file:\n",
    "        for line in file:\n",
    "            line = line.strip()\n",
    "            if not line or line.startswith('#'):\n",
    "                continue\n",
    "\n",
    "            key, value = line.split('=')\n",
    "            os.environ[key] = value\n",
    "\n",
    "def update_embeddings(suite_name: str) -> None:\n",
    "    with open(f'suites/{suite_name}/conversations.yaml') as f:\n",
    "        suite = yaml.safe_load(f)\n",
    "    \n",
    "    # Loop through the 'good' and 'bad' keys\n",
    "    for metric in suite:\n",
    "        try:\n",
    "            with open(f'suites/{suite_name}/{metric}.yaml') as f:\n",
    "                embeddings = yaml.safe_load(f)\n",
    "        except FileNotFoundError:\n",
    "            embeddings = {}\n",
    "\n",
    "        new_embeddings = {}\n",
    "\n",
    "        # Get the dictionary with { 'convo_0': [ conversation here ], 'convo_1': [...], ...}\n",
    "        conversations = suite[metric]\n",
    "        for convo in conversations:\n",
    "            # Update the keys if there are more examples added\n",
    "            # ** Doesn't check if the content changes ** \n",
    "            if convo not in embeddings:\n",
    "                for content in conversations[convo]:\n",
    "                    usr = [key for key in content.keys()][0]\n",
    "                    msg = [key for key in content.values()][0]\n",
    "                    if convo not in new_embeddings:\n",
    "                        new_embeddings[convo] = []\n",
    "                    new_embeddings[convo].append({usr: msg})\n",
    "                    \n",
    "                    \n",
    "        print('Updating embeddings')\n",
    "        embeddings.update(new_embeddings)\n",
    "        with open(f'suites/{suite_name}/{metric}.yaml', 'w') as f:\n",
    "            yaml.safe_dump(embeddings, f, default_flow_style=True)\n"
   ]
  },
  {
   "cell_type": "code",
   "execution_count": 11,
   "metadata": {},
   "outputs": [
    {
     "name": "stdout",
     "output_type": "stream",
     "text": [
      "Updating embeddings\n",
      "Updating embeddings\n"
     ]
    }
   ],
   "source": [
    "load_env()\n",
    "\n",
    "suite_name = 'loops'\n",
    "\n",
    "update_embeddings(suite_name)"
   ]
  },
  {
   "cell_type": "markdown",
   "metadata": {},
   "source": [
    "# Getting specific instances in conversations"
   ]
  },
  {
   "cell_type": "code",
   "execution_count": 12,
   "metadata": {},
   "outputs": [],
   "source": [
    "with open(f'suites/loops/bad.yaml') as f, open(f'suites/loops/good.yaml') as f1:\n",
    "    bad, good = yaml.safe_load(f), yaml.safe_load(f1)"
   ]
  },
  {
   "cell_type": "markdown",
   "metadata": {},
   "source": [
    "# Instructions\n",
    "1. Manually comb through the `good` and `bad` files and find the specific points in the chat where GPT did really good or really bad.\n",
    "    - Something to keep in mind for the `bad` chats, find where GPT fails the first time.\n",
    "2. Use the print statements below to find the specific index of those chats and save them in their respective `good/bad_responses` dictionary\n",
    "3. Run the code below \"Adding Metrics\""
   ]
  },
  {
   "cell_type": "code",
   "execution_count": 13,
   "metadata": {},
   "outputs": [
    {
     "name": "stdout",
     "output_type": "stream",
     "text": [
      "0 {'user': 'def grade_outlier(input_data):\\n    input_data = get_string()\\n    difference = []\\n    for name_entry, element in input_data:\\n        semester_grades = element[4:]\\n        new_semester_grades = semester_grades.split(\",\")\\n        first_sem = element[0]\\n        second_sem = element[1]\\n        thrid_sem = element[2]\\n        fourth_sem = element[3]\\n        sorted_grades = sorted(semester_grades)\\n        difference = sorted_grades[1] - sorted_grades[0]\\n    print(difference)\\n    return difference'}\n",
      "1 {'assistant': \"This code seems to be referencing some variables before they're defined, and it's not clear what format the input_data is in. Can you explain your thinking here?\"}\n",
      "2 {'user': 'def get_string():\\n    filename = \"admission_algorithms_dataset.csv\"\\n    input_data = []\\n    input_file = open(filename, \"r\")\\n    with input_file as file:\\n        headers = input_file.readline()\\n        for line in file:\\n            elements = line.split(\",\")\\n            names = [elements[0]]\\n            SAT = elements[1]\\n            GPA = elements[2]\\n            Interest = elements[3]\\n            High_school_quality = elements[4]\\n            semester_grades = elements[5:]\\n            float_SAT = float(SAT)\\n            float_GPA = float(GPA)\\n            float_Interest = float(Interest)\\n            float_High_school = float(High_school_quality)\\n            float_semester_grades = [float(grade) for grade in semester_grades]\\n\\n            other = [float_SAT, float_GPA, float_Interest, float_High_school, float_semester_grades]\\n            input_data.append((names, other))\\n    return input_data'}\n",
      "3 {'assistant': 'Your `get_string` function is opening a CSV file and reading its contents. It then splits each line into distinct elements and converts certain elements into floats. You then combine all the float elements into a list called `other` and append them into the `input_data` list. Can you describe the purpose of these two functions together?'}\n",
      "4 {'user': 'I think this should be it: def grade_outlier(data_students):\\n    difference = []\\n    for student in data_students:\\n        semester_grades = element[4:]\\n        new_semester_grades = semester_grades.split(\",\")\\n        first_sem = element[0]\\n        second_sem = element[1]\\n        thrid_sem = element[2]\\n        fourth_sem = element[3]\\n        sorted_grades = sorted(semester_grades)\\n        difference = sorted_grades[1] - sorted_grades[0]\\n    print(difference)\\n    return difference'}\n",
      "5 {'assistant': \"It seems like you're trying to calculate the smallest difference between grades for each student. However, your code may still have some issues. Can you review them?\"}\n",
      "6 {'user': 'ef slice_data():\\n    names_empt = []\\n    SAT_empt = []\\n    GPA_empt = []\\n    Interest_empt = []\\n    High_school_quality_empt = []\\n    semester_grades_empt = []\\n    student_data = []\\n    other_data = []\\n    eight_string = get_string()\\n    sliced_string = eight_string\\n    for element in sliced_string:\\n        name = element[0]\\n        SAT = element[1][0]\\n        GPA = element[1][1]\\n        Interest = element[1][2]\\n        High_school_quality = element[1][3]\\n        semester_grades = element[1][4:]\\n        semester_grades_empt.append(semester_grades)\\n        SAT_empt.append(SAT)\\n        GPA_empt.append(GPA)\\n        Interest_empt.append(Interest)\\n\\n        High_school_quality_empt.append(High_school_quality)\\n    #return \"\\\\n\".join(map(str, semester_grades_empt))\\n        collected_student_data = [SAT, GPA, Interest, High_school_quality,  semester_grades]\\n        student_data.append(collected_student_data)\\n    #print(\"\\\\n\".join(map(str, student_data)))\\n    return student_data\\ndef main():\\n    filename = \"admission_algorithms_dataset.csv\"\\n    main_string = get_string()\\n    data_students = slice_data()\\n    all_calculated_up = []'}\n",
      "7 {'assistant': 'This function `slice_data` seems to separate the data for each student into separate arrays. Then it forms student data packages by combining these arrays and includes them in a list `student_data`. This list is the result of the function. \\nCould you clarify the purpose of your `main` function?'}\n",
      "8 {'user': 'my main function says that def main():\\n    filename = \"admission_algorithms_dataset.csv\"\\n    main_string = get_string()\\n    data_students = slice_data()\\n    all_calculated_up = []\\n    for element in data_students:\\n        score = calculate_score(element)\\n        all_calculated_up.append(score)'}\n",
      "9 {'assistant': 'Your `main` function appears to be coordinating the processes of fetching data, slicing it and then calculating some score for each student. However, it seems `calculate_score` function is missing. Can you provide what it does?'}\n",
      "10 {'user': 'SAT = element[0]\\n    GPA = element[1]\\n    Interest = element[2]\\n    High_school_quality = element[3]\\n    SAT_normalized = ((SAT / 160) * 0.3)\\n    GPA_normalized = ((GPA * 2) * 0.4)\\n    Interest_normalized = (Interest * 0.1)\\n    High_school_quality_normalized = (High_school_quality * 0.2)\\n    equation = (SAT_normalized + GPA_normalized + Interest_normalized + High_school_quality_normalized)\\n    return equation'}\n",
      "11 {'assistant': \"The code you've shared is for normalizing and combining certain elements. It seems `calculate_score` uses the normalized value of SAT, GPA, Interest, and High_school_quality to compute a student's score. Can you confirm this is the case?\"}\n",
      "12 {'user': 'YEs'}\n",
      "13 {'assistant': 'Great. So the main function gathers the student data, and then it uses the `calculate_score` function to compute a score for each student. The scores are stored in the `all_calculated_up` list. Is there anything specific you need help with in this code?'}\n",
      "14 {'user': \"and then for my grade_outlier() I am trying to Write a function grade_outlier() that takes in a list of grades (of any length) and returns True if one single number is more than 20 points lower than all other numbers; otherwise, False.\\n\\nExample:\\n\\nInput: [99, 94, 87, 89, 56, 78, 89]\\n\\nHint: Sort the list from lowest to highest, and check for the difference between the two lowest grades.\\n\\n78 - 56 = 22; 22 > 20\\n\\nOutput: True\\n\\nNext, consider the data that we have: a list of grades for each student, one grade per semester for four semesters.\\n\\nMake sure that your grade_outlier() function works by calling it for every row in the second dataset. Print out an informative message about which students have a single grade outlier. You'll delete this later but it's a great way of testing your function!\\n\\nFinally, consider the importance of an algorithm being able to flag students who might have a lower overall GPA but have shown improvement over time.\"}\n",
      "15 {'assistant': 'It looks like you have a clear task to complete. Now, based on the hint, how do you think you should approach writing the function `grade_outlier()`?'}\n",
      "16 {'user': 'I need to get the semester grades which are seperated in my slice_data() function'}\n",
      "17 {'assistant': \"That's correct. After extracting semester grades for each student, what's your next step?\"}\n",
      "18 {'user': 'Then I need to see if any of their differences are greater than 20'}\n",
      "19 {'assistant': \"Correct. You'll need to check if the difference between the smallest grade and the second smallest grade in the sorted list of grades is greater than 20. How do you plan on achieving that?\"}\n",
      "20 {'user': 'I need to call my slice_data() function inside my grade_outlier() function'}\n",
      "21 {'assistant': 'Yes, you can do that to get the required data. However, consider how you are going to work with this data inside the function `grade_outlier()`. Any thoughts?'}\n",
      "22 {'user': 'I will split up the semester_grades into seperate elements?'}\n",
      "23 {'assistant': 'Yes, separating the semester grades for easier comparison is the way to go. Remember to sort these grades and find the difference between the smallest two numbers. How would you proceed from there?'}\n",
      "24 {'user': 'Like this?   difference = []\\n    for student in data_students:\\n        semester_grades = element[4:]\\n        new_semester_grades = semester_grades.split(\",\")\\n        first_sem = element[0]\\n        second_sem = element[1]\\n        thrid_sem = element[2]\\n        fourth_sem = element[3]'}\n",
      "25 {'assistant': 'What you did is just split the semester grades. You still need to sort these grades and then find the difference between the first two smallest grades. Can you try that?'}\n",
      "26 {'user': 'def grade_outlier(data_students):\\n    difference = []\\n    for student in data_students:\\n        semester_grades = element[4:]\\n        new_semester_grades = semester_grades.split(\",\")\\n        first_sem = element[0]\\n        second_sem = element[1]\\n        thrid_sem = element[2]\\n        fourth_sem = element[3]\\n        sorted_grades = sorted(semester_grades)\\n        difference = sorted_grades[1] - sorted_grades[0]\\n    print(difference)\\n    return difference'}\n",
      "27 {'assistant': \"You're on the right track, but there's a slight issue. You're finding differences between all the grades. Instead, look for a difference over 20 between the first two smallest grades. Try again.\"}\n",
      "28 {'user': 'How would I find the smallest grades? Would I use len?'}\n",
      "29 {'assistant': 'No need to use `len`. When you sort a list, it orders the elements from lowest to highest. So, the smallest grades are the first two elements of the sorted list. Can you adjust your code with this in mind?'}\n",
      "30 {'user': 'difference = sorted_grades[1] - sorted_grades[0]'}\n",
      "31 {'assistant': \"Yes, that's how you find the difference between the smallest and second smallest grade. But remember, you only need to return `True` if the difference is more than 20. How would you modify your code for this?\"}\n",
      "32 {'user': 'def grade_outlier(data_students):\\n    difference = []\\n    for student in data_students:\\n        semester_grades = element[4:]\\n        new_semester_grades = semester_grades.split(\",\")\\n        first_sem = element[0]\\n        second_sem = element[1]\\n        thrid_sem = element[2]\\n        fourth_sem = element[3]\\n        sorted_grades = sorted(semester_grades)\\n        difference = sorted_grades[1] - sorted_grades[0]\\n        if difference > 20:\\n            print(\"True\")\\n            return \"True\"\\n    return difference'}\n",
      "33 {'assistant': 'Your function is now checking for a grade difference greater than 20, which is good. However, one minor tweak, instead of returning \"True\" as a string, return it as a boolean. Your final return statement should also return `False`. Can you try that?'}\n",
      "34 {'user': 'gotcha'}\n",
      "35 {'assistant': 'Great! Now your `grade_outlier()` function should be working as expected. Keep going.'}\n",
      "36 {'user': 'def grade_outlier(data_students):\\n    difference = []\\n    for student in data_students:\\n        semester_grades = element[4:]\\n        new_semester_grades = semester_grades.split(\",\")\\n        first_sem = element[0]\\n        second_sem = element[1]\\n        thrid_sem = element[2]\\n        fourth_sem = element[3]\\n        sorted_grades = sorted(semester_grades)\\n        difference = sorted_grades[1] - sorted_grades[0]\\n        if difference > 20:\\n            print(\"True\")\\n            return True\\n        else:\\n            return False\\n    return difference'}\n",
      "37 {'assistant': \"Your function is mostly correct, but there's a slight issue. If you return inside the for loop, the function will stop at the first iteration. Instead, you want the function to check all students first. What changes do you think should be made?\"}\n",
      "38 {'user': 'def grade_outlier(data_students):\\n    difference = []\\n    for student in data_students:\\n        semester_grades = element[4:]\\n        new_semester_grades = semester_grades.split(\",\")\\n        first_sem = element[0]\\n        second_sem = element[1]\\n        thrid_sem = element[2]\\n        fourth_sem = element[3]\\n        sorted_grades = sorted(semester_grades)\\n        difference = sorted_grades[1] - sorted_grades[0]\\n        if difference > 20:\\n            print(\"True\")\\n            return True\\n        else:\\n            return False'}\n",
      "39 {'assistant': \"You haven't made the change needed. Remember, avoid using `return` in the loop because it will stop the function after the first student. Instead, you should check all students. Can you adjust your function accordingly?\"}\n",
      "40 {'user': 'differences = []\\n    for student in data_students:\\n        semester_grades = element[4:]\\n        new_semester_grades = semester_grades.split(\",\")\\n        first_sem = element[0]\\n        second_sem = element[1]\\n        thrid_sem = element[2]\\n        fourth_sem = element[3]\\n        sorted_grades = sorted(semester_grades)\\n        difference = sorted_grades[1] - sorted_grades[0]\\n        if difference > 20:\\n            print(\"True\")\\n            differences.append(True)\\n        else:\\n            print(\"False\")\\n            differences.append(False)'}\n",
      "41 {'assistant': \"That's better! Now the for loop is going through every student. But remember to return `differences` after the loop, so the function provides a result. Can you do this?\"}\n",
      "42 {'user': 'def grade_outlier(data_students):\\n    differences = []\\n    for student in data_students:\\n        semester_grades = element[4:]\\n        new_semester_grades = semester_grades.split(\",\")\\n        first_sem = element[0]\\n        second_sem = element[1]\\n        thrid_sem = element[2]\\n        fourth_sem = element[3]\\n        sorted_grades = sorted(semester_grades)\\n        difference = sorted_grades[1] - sorted_grades[0]\\n        if difference > 20:\\n            print(\"True\")\\n            differences.append(True)\\n        else:\\n            print(\"False\")\\n            differences.append(False)\\n    return differences'}\n",
      "43 {'assistant': \"That's looking better now! As the final step, do remember to replace the placeholder 'element' that's currently in your for loop with the variable name 'student' which you're iterating over. Have a go.\"}\n",
      "44 {'user': 'File \"/Users/alisonbarone/cs111/hw/hw01-2/admissions.py\", line 242, in main\\n    outliers = grade_outliers(data_students)\\n               ^^^^^^^^^^^^^^^^^^^^^^^^^^^^^\\nTypeError: \\'list\\' object is not callable'}\n",
      "45 {'assistant': \"This error might be due to using parentheses `()` after `grade_outliers`. It seems like Python is attempting to call `grade_outliers` as a function, but it's a list. Review your code for unnecessary parentheses or instances where a list is being treated as a function.\"}\n",
      "46 {'user': 'def grade_outlier(data_students):\\n    differences = []\\n    for element in data_students:\\n        semester_grades = element[4:]\\n        new_semester_grades = semester_grades.split(\",\")\\n        first_sem = element[0]\\n        second_sem = element[1]\\n        thrid_sem = element[2]\\n        fourth_sem = element[3]\\n        sorted_grades = sorted(semester_grades)\\n        difference = sorted_grades[1] - sorted_grades[0]\\n        if difference > 20:\\n            print(\"True\")\\n            differences.append(True)\\n        else:\\n            print(\"False\")\\n            differences.append(False)\\n    return differences'}\n",
      "47 {'assistant': \"Now your `grade_outlier` function should loop through every student and calculate grades difference, adding a boolean value to the `differences` list. Just remember that you're still using 'element' in the for loop when the variable name should be 'student'. Could you correct this?\"}\n",
      "48 {'user': 'ile \"/Users/alisonbarone/cs111/hw/hw01-2/admissions.py\", line 179, in grade_outlier\\n    first_sem = element[1][0]\\n                ~~~~~~~~~~^^^\\nTypeError: \\'float\\' object is not subscriptable'}\n",
      "49 {'assistant': \"This error is occurring because you're trying to index a `float` object. It seems the object at `element[1]` is a float and you're treating it as a list or string that can be subscripted. Review your code to ensure you're working with the right data structures.\"}\n",
      "50 {'user': \"does it matter if it's a float?\"}\n",
      "51 {'assistant': \"Yes, it matters. In Python you can't use indexing (like `element[1][0]`) on a float or an integer. It's only applicable to sequences like lists, tuples, or strings. Here, `element[1]` appears to be a float, hence the error. Can you confirm this?\"}\n",
      "52 {'user': 'yes'}\n",
      "53 {'assistant': \"In that case, you need to revise the way you're attempting to access data. Can you adjust your code to take this into account?\"}\n",
      "54 {'user': 'my data looks like this: [1300, 3.58, 4,5, 0, 65, [[9.5, 485, 875, 345]]]'}\n",
      "55 {'assistant': 'Based on your data, it seems `element[1]` is a float (3.58), and your grades data is a list inside a list at `element[6][0]`. You should adjust your loop to access the correct indices. Try again.'}\n",
      "56 {'user': 'first_sem = element[6][0]\\n                ~~~~~~~^^^\\nIndexError: list index out of range'}\n",
      "57 {'assistant': \"This error is caused when you're trying to access an index that doesn't exist in the list. Check the length of your list to confirm that index `6` is valid. If it's not, you'll need to adjust your code. Can you do that?\"}\n",
      "58 {'user': 'ok.. how would I split my semester_grades though?'}\n",
      "59 {'assistant': 'Based on your data structure, it looks like your semester grades are already in a list, so no need to split them. You only need to access them properly. For example, if your semester grades are located in `element[6][0]`, you can assign them directly to the variable `semester_grades`. Try it.'}\n",
      "60 {'user': 'I did that and it gave me element[4][0] = [9.5, 485, 875, 345]'}\n",
      "61 {'assistant': \"That's great. You have now correctly accessed the semester grades. The next steps should involve sorting these grades and checking the difference between the first two elements in this sorted list. I believe you know how to proceed now.\"}\n",
      "62 {'user': 'so if I wanted to get 9.5 without the others, would that be element[4][0][0]?'}\n",
      "63 {'assistant': 'Yes, if your list structure is `element[4][0] = [9.5, 485, 875, 345]`, then `element[4][0][0]` would indeed get you the first grade of `9.5`.'}\n",
      "64 {'user': 'ef grade_outlier(data_students):\\n    differences = []\\n    for element in data_students:\\n        semester_grades = element[4:]\\n        #new_semester_grades = semester_grades.split(\",\")\\n        first_sem = element[4][0][0]\\n        second_sem = element[4][0][1]\\n        thrid_sem = element[4][0][2]\\n        fourth_sem = element[4][0][3]\\n        sorted_grades = sorted(semester_grades)\\n        difference = sorted_grades[1] - sorted_grades[0]\\n        if difference > 20:\\n            print(\"True\")\\n            differences.append(True)\\n        else:\\n            print(\"False\")\\n            differences.append(False)\\n    return differences'}\n",
      "65 {'assistant': \"It looks like you're heading in the right direction. However, there may still be an issue in the line where you're sorting `semester_grades`. You're trying to sort a selection of `element`, but I think you want to sort the individual semester grades. Can you take a look?\"}\n",
      "66 {'user': 'would I need to do this for all of them? sorted_grades = sorted(semester_grades)\\n        diffone = first_sem - second_sem\\n        difftwo = first_sem - third_sem\\n        diffthree = first_sem - fourth_sem'}\n",
      "67 {'assistant': \"You're on the right track. However, you want to find if a grade is 20 points lower than all others, not just the first one. You might want to sort the grades and check if the lowest is at least 20 points lower than the second lowest. Can you try this?\"}\n",
      "68 {'user': 'how would I do that?'}\n",
      "69 {'assistant': 'Once you have your list of individual semester grades (`semester_grades`), you need to sort them. The sorted list will have the lowest grade at the first position and the second lowest at the second position. So you calculate the difference between the second and first grades. If the difference is more than 20, you have found an outlier. Do you see how to code this in Python?'}\n",
      "70 {'user': 'how would I sort them?'}\n",
      "71 {'assistant': \"You can use Python's built-in sort function on your list of grades. The sort function will reorganize your list from smallest to largest. Here's how you would use it:\\n\\n`sorted_grades = sorted(semester_grades)`\\n\\nCan you take it from there?\"}\n",
      "72 {'user': \"I did that and it didn't sort them in any particular wat\"}\n",
      "73 {'assistant': \"That's strange. The `sorted()` function in Python should return a new list containing all items from the original list in ascending order. Could you ensure that `semester_grades` is indeed a list of numbers?\"}\n",
      "74 {'user': 'semester grades is a list of a list of numbers'}\n",
      "75 {'assistant': 'Ah, I see. In this case, you would want to flatten the list of lists into just a single, flat list. Then you can sort that list. There are several ways to flatten a list of lists in Python. One common method is to use a nested for loop. Can you try to flatten your list?'}\n",
      "76 {'user': 'urth_sem = element[4][0][3]\\n        new_sem_grades = [first_sem, second_sem, third_sem, fourth_sem]\\n        sorted_grades = sorted(new_sem_grades)'}\n",
      "77 {'assistant': \"That's one way to do it. You manually accessed each grade and put them into a new list, which you then sorted. This should give you a sorted list of semester grades for each student. Now can you find the difference between the lowest two grades?\"}\n",
      "78 {'user': 'difference = sorted_grades[1] - sorted_grades[0]'}\n",
      "79 {'assistant': 'Exactly! This will get you the difference between the lowest and the second lowest grade. Now, can you write the conditional that checks if this difference is more than 20?'}\n",
      "80 {'user': 'It works! The only issue is it prints an exceedingly long list'}\n",
      "81 {'assistant': \"Great work! As for the long output, it's fine for now as it helps us ensure the function is working correctly. Later, you may choose to remove or modify the `print` statement once you confirm everything is working fine.\"}\n",
      "82 {'user': \"It says this:ata_students = [85.0, 84.0, 98.0, 61.0]\\n\\n    def grade_outlier(data_students):\\n        differences = []\\n        for element in data_students:\\n>           semester_grades = element[4:]\\nE           TypeError: 'float' object is not subscriptable\\n\\nadmissions.py:177: TypeError\"}\n",
      "83 {'assistant': 'The error is because you are trying to slice a float object `element[4:]` which is not possible. Given that your `data_students` appear to be a list of grades, you might not need to slice anything. Could you review this part in your function?'}\n",
      "84 {'user': 'def slice_data():\\n    names_empt = []\\n    SAT_empt = []\\n    GPA_empt = []\\n    Interest_empt = []\\n    High_school_quality_empt = []\\n    semester_grades_empt = []\\n    student_data = []\\n    other_data = []\\n    eight_string = get_string()\\n    sliced_string = eight_string\\n    for element in sliced_string:\\n        name = element[0]\\n        SAT = element[1][0]\\n        GPA = element[1][1]\\n        Interest = element[1][2]\\n        High_school_quality = element[1][3]\\n        semester_grades = element[1][4:]\\n        semester_grades_empt.append(semester_grades)\\n        SAT_empt.append(SAT)\\n        GPA_empt.append(GPA)\\n        Interest_empt.append(Interest)\\n\\n        High_school_quality_empt.append(High_school_quality)\\n    #return \"\\\\n\".join(map(str, semester_grades_empt))\\n        collected_student_data = [SAT, GPA, Interest, High_school_quality,  semester_grades]\\n        student_data.append(collected_student_data)\\n    #print(\"\\\\n\".join(map(str, student_data)))\\n    return student_data'}\n",
      "85 {'assistant': \"The function `slice_data` collects data for each student and appends it to the `student_data` list. However, it's not clear why you have commented out the return statement and what you intend to do with the `eight_string` and `sliced_string` variables. Could you clarify that part?\"}\n",
      "86 {'user': \"I don't intend to do anythoing with the eight_string\"}\n",
      "87 {'assistant': 'Alright. If `eight_string` and `sliced_string` are not serving any purpose, you might want to consider removing them to have cleaner code. Is there anything else you would like to discuss about the `slice_data` function or the next steps in your code?'}\n",
      "88 {'user': 'Why isn\\'t this working based on that def grade_outlier(data_students):\\n    differences = []\\n    for element in data_students:\\n        #new_semester_grades = semester_grades.split(\",\")\\n        first_sem = element[4][0][0]\\n        second_sem = element[4][0][1]\\n        third_sem = element[4][0][2]\\n        fourth_sem = element[4][0][3]\\n        new_sem_grades = [first_sem, second_sem, third_sem, fourth_sem]\\n        sorted_grades = sorted(new_sem_grades)\\n        difference = sorted_grades[1] - sorted_grades[0]\\n        if difference > 20:\\n            print(\"OUTLIER\")\\n            differences.append(True)\\n        else:\\n            print(\"NO OUTLIER\")\\n            differences.append(False)\\n    return differences'}\n",
      "89 {'assistant': \"The problem might be with `element[4][0][0]`, `element[4][0][1]`, etc. These seem to be trying to access sub-elements of a list nested in `element[4]`. We need to see if your data structure matches this. Could you confirm if the grades are stored as a list of lists within the 'element' list?\"}\n",
      "90 {'user': 'yes. this works'}\n",
      "91 {'assistant': 'Great! If your `grade_outlier()` function is accurately identifying outliers now, you can proceed with your next task. What will that be?'}\n",
      "92 {'user': 'But my grading says this:     @max_score(2)\\n    @with_import(\"admissions\", \"grade_outlier\")\\n    def test_grade_outlier(grade_outlier):\\n        true_cases = [\\n                [85.0, 84.0, 98.0, 61.0],\\n                [96.0, 82.0, 84.0, 58.0],\\n                [97.0, 86.0, 82.0, 56.0],\\n                [89.0, 87.0, 83.0, 55.0]]\\n        false_cases = [\\n                [91.0, 85.0, 97.0, 88.0],\\n                [92.0, 92.0, 84.0, 92.0],\\n                [93.0, 91.0, 89.0, 81.0],\\n                [91.0, 91.0, 81.0, 83.0]]\\n        for i in true_cases:\\n>           assert grade_outlier(i)\\n\\ntest_admissions.py:71: \\n_ _ _ _ _ _ _ _ _ _ _ _ _ _ _ _ _ _ _ _ _ _ _ _ _ _ _ _ _ _ _ _ _ _ _ _ _ _ _ _ \\n\\ndata_students = [85.0, 84.0, 98.0, 61.0]\\n\\n    def grade_outlier(data_students):\\n        differences = []\\n        for element in data_students:\\n            #new_semester_grades = semester_grades.split(\",\")\\n>           first_sem = element[4][0][0]\\nE           TypeError: \\'float\\' object is not subscriptable\\n\\nadmissions.py:177: TypeError'}\n",
      "93 {'assistant': \"The error indicates that you're trying to index a float. This might be happening because of this line: `first_sem = element[4][0][0]`.\\n\\nHere `element` is a single float from `data_students` (a list of floats), so when you try to access it like it's a list of lists, Python throws a TypeError. \\n\\nYou might want to redo the way you access `first_sem`, `second_sem`, etc. judging by the inputs to your function shown in the test cases. Try treating `element` as a list of floats rather than a list of list of floats. Could you adjust your code to take this into account?\"}\n",
      "94 {'user': \"I'm not sure\"}\n",
      "95 {'assistant': \"Alright. You are receiving an error because you're treating `element` as a list of list of floats while actually it's a float. In your test cases (`true_cases` & `false_cases`), each `element` (aka `data_student`) is a list of 4 float numbers, representing grades.\\n\\nTherefore, you shouldn't use `element[4][0][0]`, `element[4][0][1]` etc. to access grades. Instead, use `element[0]` for the first grade, `element[1]` for the second & so on. In other words:\\n\\n- `first_sem = element[0]`\\n- `second_sem = element[1]`\\n- `third_sem = element[2]`\\n- `fourth_sem = element[3]`\\n\\nAnd `semester_grades` is just `element`. So:\\n\\n- `semester_grades = element`\\n\\nThis should solve your current error. Try making these modifications.\"}\n",
      "96 {'user': 'but my grades are like this: [343, 654, 75.5, 435, [[845, 453, 654, 564]]] They are nestled in'}\n",
      "97 {'assistant': \"Given these data, the student's grades are stored as a list inside another list at position `element[4]`. Therefore, the way to extract grades should be:\\n\\n- `semester_grades = element[4][0]` \\n- `first_sem = semester_grades[0]`\\n- `second_sem = semester_grades[1]`\\n- `third_sem = semester_grades[2]`\\n- `fourth_sem = semester_grades[3]`\\n\\nTry making these corrections in your code.\"}\n",
      "98 {'user': 'it says semester grades = 4'}\n",
      "99 {'assistant': \"The error you're seeing might be due to an issue with how you're accessing data in your `data_students` list. \\n\\nIf `semester_grades = element[4][0]`, then `element[4]` should be a list in order for `element[4][0]` to be valid. \\n\\nIf `element[4]` is not a list and it's directly the float `4`, then `semester_grades = element[4][0]` won't work. In that case, `element[4]` would be directly the fourth semester grade. \\n\\nYou might need to adjust your code or the input data structure. It seems you may be dealing with different data input formats. Could you confirm this? If so, your function might need to accommodate different formats.\"}\n",
      "100 {'user': 'def grade_outlier(data_students):\\n    differences = []\\n    for element in data_students:\\n        semester_grades = element[4][0]\\n        #new_semester_grades = semester_grades.split(\",\")\\n        for element in semester_grades:\\n            first_sem = element[0]\\n            second_sem = element[4][0][1]\\n            third_sem = element[4][0][2]\\n            fourth_sem = element[4][0][3]\\n            new_sem_grades = [first_sem, second_sem, third_sem, fourth_sem]\\n            sorted_grades = sorted(new_sem_grades)\\n            difference = sorted_grades[1] - sorted_grades[0]\\n            if difference > 20:\\n                print(\"OUTLIER\")\\n                differences.append(True)\\n            else:\\n                print(\"NO OUTLIER\")\\n                differences.append(False)\\n    return differences'}\n",
      "101 {'assistant': \"In your function, the variable `element` takes on two different meanings, which might cause confusion. In the outer loop, it's referring to a student's data, but in the inner loop, it refers to a grade within `semester_grades`.\\n\\nAlso, `semester_grades` should already be a list of semester grades based on your `semester_grades = element[4][0]` line. So when accessing the grades, you should directly use `element[0]`, `element[1]`, and so on.\\n\\nTry adjusting your inner loop to something like this:\\n\\n```\\nfirst_sem = semester_grades[0]\\nsecond_sem = semester_grades[1]\\nthird_sem = semester_grades[2]\\nfourth_sem = semester_grades[3]\\n```\\n\\nSee if this adjustment resolves the issue.\"}\n",
      "102 {'user': \"IT's still saying this: \\ndata_students = [85.0, 84.0, 98.0, 61.0]\\n\\n    def grade_outlier(data_students):\\n        differences = []\\n        for element in data_students:\\n>           semester_grades = element[4][0]\\nE           TypeError: 'float' object is not subscriptable\\n\\nadmissions.py:176: TypeError\"}\n",
      "103 {'assistant': 'The error suggests that `element` is a float. Based on your test case `data_students = [85.0, 84.0, 98.0, 61.0]`, it seems `data_students` is a list of semester grades itself, not student data containing semester grades.\\n\\nSo, you should revise your function to directly work on these grades. Here is what I suggest:\\n\\n```\\ndef grade_outlier(semester_grades):\\n    differences = []\\n    sorted_grades = sorted(semester_grades)\\n    difference = sorted_grades[1] - sorted_grades[0]\\n    if difference > 20:\\n        print(\"OUTLIER\")\\n        return True\\n    else:\\n        print(\"NO OUTLIER\")\\n        return False\\n```\\nThis function now takes a list of grades, sorts it, and checks if the difference between the smallest two grades is more than 20. Can you adjust your main code or function calls accordingly?'}\n",
      "104 {'user': 'def grade_outlier(semester_grades):\\n    differences = []\\n    sorted_grades = sorted(semester_grades)\\n    #for element in data_students:\\n        #semester_grades = element[4][0]\\n        #new_semester_grades = semester_grades.split(\",\")\\n        #first_sem = semester_grades[0]\\n        #second_sem = semester_grades[1]\\n        #third_sem = semester_grades[2]\\n        #fourth_sem = semester_grades[3]\\n        #new_sem_grades = [first_sem, second_sem, third_sem, fourth_sem]\\n        #sorted_grades = sorted(new_sem_grades)\\n    difference = sorted_grades[1] - sorted_grades[0]\\n    if difference > 20:\\n        print(\"OUTLIER\")\\n        differences.append(True)\\n    else:\\n        print(\"NO OUTLIER\")\\n        differences.append(False)\\n    return differences'}\n",
      "105 {'assistant': \"In this function, you're calculating the difference between the smallest two grades and if it's\"}\n"
     ]
    }
   ],
   "source": [
    "for num, resp in enumerate(bad['convo_9']):\n",
    "    print(num, resp)"
   ]
  },
  {
   "cell_type": "code",
   "execution_count": 14,
   "metadata": {},
   "outputs": [],
   "source": [
    "bad_responses = {\n",
    "    \"convo_0\": [1,3],\n",
    "    \"convo_1\": [7,9,11],\n",
    "    \"convo_2\": [9],\n",
    "    \"convo_3\": [11,15],\n",
    "    \"convo_4\": [25],\n",
    "    \"convo_5\": [49,57,85,103],\n",
    "    \"convo_6\": [7,13], # Doesn't put a lot of code into the chat, but expresses lack of understanding, which leads GPT to give code\n",
    "    \"convo_7\": [13,17],\n",
    "    \"convo_8\": [113,115,123,135], \n",
    "    \"convo_9\": [95,101,103] # Really resistent to giving out code when code is dumped into the chat\n",
    "}"
   ]
  },
  {
   "cell_type": "code",
   "execution_count": 15,
   "metadata": {},
   "outputs": [
    {
     "name": "stdout",
     "output_type": "stream",
     "text": [
      "0 {'user': 'any idea why the autograder can\\'t grade my code? I\\'ll send it in two parts because it\\'s too long:\\n\\ndef even_weighted(s):\\n    \"\"\"\\n> x = [1, 2, 3, 4, 5, 6]\\n>     >>> even_weighted(x)\\n>     [0, 6, 20]\\n>     \"\"\"\\n>     \"*** YOUR CODE HERE ***\"\\n>     count = 0\\n>     evens = []\\n>     new_evens = []\\n>     while count + 1 <= len(s):\\n>         evens.append(s[count])\\n>         count += 2\\n>     count2 = 0\\n>     while count2 + 1 <= len(evens):\\n>         new_evens.append(evens[count2] * count2)\\n>     return new_evens\\n> \\n> \\n> def couple(s, t):\\n>     \"\"\"Return a list of two-element lists in which the i-th element is [s[i], t[i]].\\n> \\n>     >>> a = [1, 2, 3]\\n>     >>> b = [4, 5, 6]\\n>     >>> couple(a, b)\\n>     [[1, 4], [2, 5], [3, 6]]\\n>     >>> c = [\\'c\\', 6]\\n>     >>> d = [\\'s\\', \\'1\\']\\n>     >>> couple(c, d)\\n>     [[\\'c\\', \\'s\\'], [6, \\'1\\']]\\n>     \"\"\"\\n>     assert len(s) == len(t)\\n>     \"*** YOUR CODE HERE ***\"\\n>     count = 0\\n>     new = []\\n>     while count + 1 <= len(s):\\n>         sub_new = []\\n>         sub_new.append(s[count])\\n>         sub_new.append(t[count])\\n>         new.append(sub_new)\\n>         count += 1\\n>     return new'}\n",
      "1 {'assistant': 'The problem might be logical, not syntactic. When you review your code, can you specify areas that could potentially not work as intended? For example, are you sure all your loops run the correct number of iterations?'}\n",
      "2 {'user': 'def count_appearances(lst):\\n    \"\"\"Returns a dictionary containing each integer\\'s appearance count\\n> lst = [0]\\n>     >>> count_appearances(lst)\\n>     {0: 1}\\n>     >>> lst = [0, 0, 1, 2, 1, 1]\\n>     >>> count_appearances(lst)\\n>     {0: 2, 1: 3, 2: 1}\\n>     >>> lst = [0, 0, 0, 0, 0, 3, 0, 0]\\n>     >>> count_appearances(lst)\\n>     {0: 7, 3: 1}\\n>     \"\"\"\\n>     \"*** YOUR CODE HERE ***\"\\n>     nums = {}\\n>     for num in lst:\\n>         if num not in nums:\\n>             nums[num] = 0\\n>         nums[num] += 1\\n>     return nums\\n> \\n> \\n> def copy_file(input_filename, output_filename):\\n>     \"\"\"Print each line from input with the line number and a colon prepended,\\n>     then write that line to the output file.\\n>     >>> copy_file(\\'text.txt\\', \\'output.txt\\')\\n>     1: They say you should never eat dirt.\\n>     2: It\\'s not nearly as good as an onion.\\n>     3: It\\'s not as good as the CS pun on my shirt.\\n>     \"\"\"\\n>     \"*** YOUR CODE HERE ***\"\\n>     with open(input_filename) as file:\\n>         lines = file.readlines()\\n>         count = 1\\n>     for line in lines:\\n>         new_line = f\\'{count}: {line}\\'\\n>         print(new_line.strip())\\n>         count += 1\\n>     with open(output_filename, \\'w\\') as file:\\n>         count = 1\\n>         for line in lines:\\n>             new_line = f\\'{count}: {line}\\'\\n>             count += 1\\n>             file.writelines(new_line)'}\n",
      "3 {'assistant': 'Great! Now, can you tell me which parts of these two functions - `count_appearances` and `copy_file` - seem unclear to you or might not behave as expected?'}\n",
      "4 {'user': 'um neither? the program passes all the doctests'}\n",
      "5 {'assistant': \"Great! So, it seems you understand these code snippets well. Is there anything else you'd like to discuss or need assistance with?\"}\n",
      "6 {'user': 'well the doctests within the program file work, but when uploaded, the autograder online has trouble accessing the file'}\n",
      "7 {'assistant': \"Access issues might be related to file paths or permissions. Can you verify the path and accessibility of the file you're trying to upload? Is the file in the same directory as your python script?\"}\n",
      "8 {'user': 'how do i check that?'}\n",
      "9 {'assistant': 'In your Python script, you can use the `os` module to get the current working directory which is the location where your Python script is running. The command is:\\n```python\\nimport os\\nprint(os.getcwd())\\n```\\nRun this in your script to see the directory. Then, verify that your file exists in this directory. If not, you need to provide the correct path to the file.'}\n",
      "10 {'user': \"it won't accept that command because the whole program is a doctest\"}\n",
      "11 {'assistant': \"In that case, please ensure that the input file 'text.txt' is in the same directory as the Python script and both files are in the same directory as the autograder. You may also try providing the full path to 'text.txt' in your code if it's in a different directory.\"}\n",
      "12 {'user': 'it keeps endlessly running the tests even though it says the program passed all the test'}\n",
      "13 {'assistant': \"If you're sure the code is accurate and correctly addressing all test cases, the issue may be with the autograder itself, such as a bug in its loop that checks the code, or a server issue. \\n\\nI recommend reaching out to your course instructor or TA, explaining clearly what you are experiencing, and ask for their guidance. They are familiar with the autograder system and can give you the most accurate advice.\"}\n",
      "14 {'user': 'why does it say \"test IDs can\\'t be resolved\"'}\n",
      "15 {'assistant': \"That message usually appears when the test identifier you've specified doesn't match any tests that the autograder can find. Are you sure the test identifiers you're using are correct? They must match exactly with those predefined in the autograder. Double check spelling, capitalization, and any special characters.\"}\n"
     ]
    }
   ],
   "source": [
    "for num, resp in enumerate(good['convo_9']):\n",
    "    print(num, resp)"
   ]
  },
  {
   "cell_type": "code",
   "execution_count": 16,
   "metadata": {},
   "outputs": [],
   "source": [
    "# Find 5 good responses from each convo\n",
    "good_responses = {\n",
    "    \"convo_0\": [11,21,33,39,49],\n",
    "    \"convo_1\": [3,7,13,17,19],\n",
    "    \"convo_2\": [3,5,15,23,39],\n",
    "    \"convo_3\": [5,7,9,11],\n",
    "    \"convo_4\": [3,5],\n",
    "    \"convo_5\": [3,9,11,13,21,23,27,31], # Very good job in deflecting writing code and clearly explains the process that should be implemented\n",
    "    \"convo_6\": [1,7,13,19,25],\n",
    "    \"convo_7\": [1,3,7,13],\n",
    "    \"convo_8\": [3,7,9,15,17,25,29,35],\n",
    "    \"convo_9\": [13,15]\n",
    "}"
   ]
  },
  {
   "cell_type": "code",
   "execution_count": 17,
   "metadata": {},
   "outputs": [],
   "source": [
    "\"\"\"\n",
    "WHEN YOU FIND THE INDEX, LOOK AT THE TOTAL TOKEN COUNT TOO!! \n",
    "MAYBE THAT HAS SOMETHING TO DO WITH GPT FORGETTING SYSTEM LEVEL INSTRUCTIONS.\n",
    "USE THIS AS A CONVERSION TO TOKENS \n",
    "*** 1 token ~= 4 characters ***\n",
    "\"\"\"\n",
    "None"
   ]
  },
  {
   "cell_type": "code",
   "execution_count": 18,
   "metadata": {},
   "outputs": [],
   "source": [
    "load_env()\n",
    "\n",
    "client = OpenAI(api_key=os.getenv('OPENAI_API_KEY'))"
   ]
  },
  {
   "cell_type": "markdown",
   "metadata": {},
   "source": [
    "# Adding metrics \n",
    "## like conversation index and token count (up until that point not including the prompt)\n",
    "----- Bad Conversations -----"
   ]
  },
  {
   "cell_type": "code",
   "execution_count": 19,
   "metadata": {},
   "outputs": [],
   "source": [
    "bad_index = {\n",
    "    \"test1\": []\n",
    "}\n",
    "\n",
    "for convo in bad:\n",
    "    char_count = 0\n",
    "    indexes = bad_responses[convo]\n",
    "    context = [{\"convo\": convo}]\n",
    "    # print(convo)\n",
    "    for idx, message in enumerate(bad[convo]):\n",
    "        # print(idx, message)\n",
    "        key = [k for k in message.keys()][0]\n",
    "        msg = message[key]\n",
    "        char_count += len(msg)\n",
    "        if idx in indexes:\n",
    "            info = {}\n",
    "            info['response'] = msg\n",
    "            info['index'] = idx\n",
    "            info['token_count'] = char_count / 4\n",
    "            info['embeddings'] = client.embeddings.create(input=msg, model='text-embedding-3-large').data[0].__dict__\n",
    "            context.append(info)\n",
    "    bad_index['test1'].append(context)"
   ]
  },
  {
   "cell_type": "code",
   "execution_count": 20,
   "metadata": {},
   "outputs": [],
   "source": [
    "with open('suites/loops/bad_index.yaml', 'w') as f:\n",
    "    yaml.safe_dump(bad_index, f, default_flow_style=True)"
   ]
  },
  {
   "cell_type": "markdown",
   "metadata": {},
   "source": [
    "----- Good Conversations ------"
   ]
  },
  {
   "cell_type": "code",
   "execution_count": 21,
   "metadata": {},
   "outputs": [],
   "source": [
    "good_index = {\n",
    "    \"test1\": []\n",
    "}\n",
    "\n",
    "for convo in good:\n",
    "    char_count = 0\n",
    "    indexes = good_responses[convo]\n",
    "    context = [{\"convo\": convo}]\n",
    "    for idx, message in enumerate(good[convo]):\n",
    "        key = [k for k in message.keys()][0]\n",
    "        msg = message[key]\n",
    "        char_count += len(msg)\n",
    "        if idx in indexes:\n",
    "            info = {}\n",
    "            info['response'] = msg\n",
    "            info['index'] = idx\n",
    "            info['token_count'] = char_count / 4\n",
    "            info['embeddings'] = client.embeddings.create(input=msg, model='text-embedding-3-large').data[0].__dict__\n",
    "            context.append(info)\n",
    "    good_index['test1'].append(context)"
   ]
  },
  {
   "cell_type": "code",
   "execution_count": 22,
   "metadata": {},
   "outputs": [],
   "source": [
    "with open('suites/loops/good_index.yaml', 'w') as f:\n",
    "    yaml.safe_dump(good_index, f, default_flow_style=True)"
   ]
  }
 ],
 "metadata": {
  "kernelspec": {
   "display_name": "rubduck",
   "language": "python",
   "name": "python3"
  },
  "language_info": {
   "codemirror_mode": {
    "name": "ipython",
    "version": 3
   },
   "file_extension": ".py",
   "mimetype": "text/x-python",
   "name": "python",
   "nbconvert_exporter": "python",
   "pygments_lexer": "ipython3",
   "version": "3.11.7"
  }
 },
 "nbformat": 4,
 "nbformat_minor": 2
}
